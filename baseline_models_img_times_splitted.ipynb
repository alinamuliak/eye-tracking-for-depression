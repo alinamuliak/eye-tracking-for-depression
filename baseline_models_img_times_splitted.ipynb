{
 "cells": [
  {
   "cell_type": "code",
   "execution_count": 77,
   "metadata": {
    "collapsed": true,
    "ExecuteTime": {
     "end_time": "2023-11-18T10:40:14.599771Z",
     "start_time": "2023-11-18T10:40:14.573485Z"
    }
   },
   "outputs": [],
   "source": [
    "import pandas as pd\n",
    "from sklearn.neural_network import MLPClassifier"
   ]
  },
  {
   "cell_type": "code",
   "execution_count": 78,
   "outputs": [],
   "source": [
    "import os\n",
    "\n",
    "df_labels = pd.read_csv('data/innovaid_hackathon_anima/output_classes.csv')\n",
    "df = pd.read_csv('data/innovaid_hackathon_anima/total_gaze_imgs_4.csv')[1:]"
   ],
   "metadata": {
    "collapsed": false,
    "ExecuteTime": {
     "end_time": "2023-11-18T10:40:14.619473Z",
     "start_time": "2023-11-18T10:40:14.577263Z"
    }
   }
  },
  {
   "cell_type": "code",
   "execution_count": 79,
   "outputs": [
    {
     "data": {
      "text/plain": "                Unnamed: 0         0         1         2         3         4  \\\n1     ykb8Kau47lOpf94ogXqW  0.016426  0.000000  0.019569  0.000000  0.021711   \n2     9kaeHX0tKCwDx3YTqtKa  0.002591  0.000000  0.000000  0.000000  0.000000   \n3     UEGF9hSh8QZt8KSYiXWp  0.012531  0.001847  0.017016  0.000000  0.009102   \n4     6xXlQ54eY3eQmQK85PWZ  0.006188  0.004273  0.007072  0.004126  0.003831   \n5     rrU7PfbZjJ1PYPQfpsBC  0.004064  0.000000  0.009753  0.005690  0.008399   \n...                    ...       ...       ...       ...       ...       ...   \n1449  Fu99kvYLObFdDEolQPJf  0.000000  0.008376  0.010840  0.003695  0.011086   \n1450  I8EwzZrIiWLe5SP2MLGv  0.009490  0.002052  0.013080  0.001539  0.010259   \n1451  FC07oWVDi4EJz1NPOTRw  0.008833  0.000000  0.008306  0.004351  0.003428   \n1452  Pf4Ae6IOVapo0dh6lNZX  0.006417  0.008289  0.009091  0.006016  0.004813   \n1453  sX1f0IigLUCRZ7QZBF0h  0.000392  0.000392  0.000261  0.001960  0.000131   \n\n             5         6         7         8  ...        91        92  \\\n1     0.000000  0.021711  0.000000  0.020711  ...  0.000000  0.018140   \n2     0.000000  0.000000  0.000000  0.000797  ...  0.001395  0.005780   \n3     0.002638  0.012268  0.001715  0.013323  ...  0.000000  0.016357   \n4     0.008840  0.004273  0.008693  0.006778  ...  0.006483  0.005157   \n5     0.006773  0.000000  0.011650  0.000000  ...  0.000271  0.003251   \n...        ...       ...       ...       ...  ...       ...       ...   \n1449  0.005174  0.004927  0.006898  0.004927  ...  0.000985  0.000985   \n1450  0.003847  0.004873  0.005386  0.004360  ...  0.005130  0.003334   \n1451  0.001450  0.005801  0.004878  0.006196  ...  0.000132  0.007779   \n1452  0.008824  0.010428  0.005749  0.010160  ...  0.004278  0.008155   \n1453  0.005097  0.000000  0.002483  0.002875  ...  0.001045  0.000392   \n\n            93        94        95        96        97        98        99  \\\n1     0.000000  0.020140  0.000000  0.010713  0.000000  0.008856  0.000000   \n2     0.000797  0.001196  0.002990  0.001794  0.004983  0.002392  0.001196   \n3     0.000000  0.011212  0.000791  0.014510  0.000264  0.017544  0.000000   \n4     0.005894  0.005452  0.005746  0.003389  0.003389  0.005010  0.006925   \n5     0.000000  0.002438  0.000000  0.007857  0.000000  0.000000  0.000000   \n...        ...       ...       ...       ...       ...       ...       ...   \n1449  0.002710  0.000000  0.000000  0.001232  0.000493  0.003449  0.000000   \n1450  0.005642  0.001282  0.010003  0.002052  0.005899  0.005130  0.002821   \n1451  0.000000  0.005010  0.000264  0.002900  0.000000  0.005274  0.000000   \n1452  0.003342  0.010428  0.006283  0.009225  0.005348  0.001471  0.015241   \n1453  0.003398  0.000392  0.001176  0.000392  0.005097  0.000000  0.001830   \n\n           100  \n1     0.222254  \n2     0.867251  \n3     0.502176  \n4     0.528363  \n5     0.733677  \n...        ...  \n1449  0.697709  \n1450  0.454219  \n1451  0.708372  \n1452  0.460695  \n1453  0.645452  \n\n[1453 rows x 102 columns]",
      "text/html": "<div>\n<style scoped>\n    .dataframe tbody tr th:only-of-type {\n        vertical-align: middle;\n    }\n\n    .dataframe tbody tr th {\n        vertical-align: top;\n    }\n\n    .dataframe thead th {\n        text-align: right;\n    }\n</style>\n<table border=\"1\" class=\"dataframe\">\n  <thead>\n    <tr style=\"text-align: right;\">\n      <th></th>\n      <th>Unnamed: 0</th>\n      <th>0</th>\n      <th>1</th>\n      <th>2</th>\n      <th>3</th>\n      <th>4</th>\n      <th>5</th>\n      <th>6</th>\n      <th>7</th>\n      <th>8</th>\n      <th>...</th>\n      <th>91</th>\n      <th>92</th>\n      <th>93</th>\n      <th>94</th>\n      <th>95</th>\n      <th>96</th>\n      <th>97</th>\n      <th>98</th>\n      <th>99</th>\n      <th>100</th>\n    </tr>\n  </thead>\n  <tbody>\n    <tr>\n      <th>1</th>\n      <td>ykb8Kau47lOpf94ogXqW</td>\n      <td>0.016426</td>\n      <td>0.000000</td>\n      <td>0.019569</td>\n      <td>0.000000</td>\n      <td>0.021711</td>\n      <td>0.000000</td>\n      <td>0.021711</td>\n      <td>0.000000</td>\n      <td>0.020711</td>\n      <td>...</td>\n      <td>0.000000</td>\n      <td>0.018140</td>\n      <td>0.000000</td>\n      <td>0.020140</td>\n      <td>0.000000</td>\n      <td>0.010713</td>\n      <td>0.000000</td>\n      <td>0.008856</td>\n      <td>0.000000</td>\n      <td>0.222254</td>\n    </tr>\n    <tr>\n      <th>2</th>\n      <td>9kaeHX0tKCwDx3YTqtKa</td>\n      <td>0.002591</td>\n      <td>0.000000</td>\n      <td>0.000000</td>\n      <td>0.000000</td>\n      <td>0.000000</td>\n      <td>0.000000</td>\n      <td>0.000000</td>\n      <td>0.000000</td>\n      <td>0.000797</td>\n      <td>...</td>\n      <td>0.001395</td>\n      <td>0.005780</td>\n      <td>0.000797</td>\n      <td>0.001196</td>\n      <td>0.002990</td>\n      <td>0.001794</td>\n      <td>0.004983</td>\n      <td>0.002392</td>\n      <td>0.001196</td>\n      <td>0.867251</td>\n    </tr>\n    <tr>\n      <th>3</th>\n      <td>UEGF9hSh8QZt8KSYiXWp</td>\n      <td>0.012531</td>\n      <td>0.001847</td>\n      <td>0.017016</td>\n      <td>0.000000</td>\n      <td>0.009102</td>\n      <td>0.002638</td>\n      <td>0.012268</td>\n      <td>0.001715</td>\n      <td>0.013323</td>\n      <td>...</td>\n      <td>0.000000</td>\n      <td>0.016357</td>\n      <td>0.000000</td>\n      <td>0.011212</td>\n      <td>0.000791</td>\n      <td>0.014510</td>\n      <td>0.000264</td>\n      <td>0.017544</td>\n      <td>0.000000</td>\n      <td>0.502176</td>\n    </tr>\n    <tr>\n      <th>4</th>\n      <td>6xXlQ54eY3eQmQK85PWZ</td>\n      <td>0.006188</td>\n      <td>0.004273</td>\n      <td>0.007072</td>\n      <td>0.004126</td>\n      <td>0.003831</td>\n      <td>0.008840</td>\n      <td>0.004273</td>\n      <td>0.008693</td>\n      <td>0.006778</td>\n      <td>...</td>\n      <td>0.006483</td>\n      <td>0.005157</td>\n      <td>0.005894</td>\n      <td>0.005452</td>\n      <td>0.005746</td>\n      <td>0.003389</td>\n      <td>0.003389</td>\n      <td>0.005010</td>\n      <td>0.006925</td>\n      <td>0.528363</td>\n    </tr>\n    <tr>\n      <th>5</th>\n      <td>rrU7PfbZjJ1PYPQfpsBC</td>\n      <td>0.004064</td>\n      <td>0.000000</td>\n      <td>0.009753</td>\n      <td>0.005690</td>\n      <td>0.008399</td>\n      <td>0.006773</td>\n      <td>0.000000</td>\n      <td>0.011650</td>\n      <td>0.000000</td>\n      <td>...</td>\n      <td>0.000271</td>\n      <td>0.003251</td>\n      <td>0.000000</td>\n      <td>0.002438</td>\n      <td>0.000000</td>\n      <td>0.007857</td>\n      <td>0.000000</td>\n      <td>0.000000</td>\n      <td>0.000000</td>\n      <td>0.733677</td>\n    </tr>\n    <tr>\n      <th>...</th>\n      <td>...</td>\n      <td>...</td>\n      <td>...</td>\n      <td>...</td>\n      <td>...</td>\n      <td>...</td>\n      <td>...</td>\n      <td>...</td>\n      <td>...</td>\n      <td>...</td>\n      <td>...</td>\n      <td>...</td>\n      <td>...</td>\n      <td>...</td>\n      <td>...</td>\n      <td>...</td>\n      <td>...</td>\n      <td>...</td>\n      <td>...</td>\n      <td>...</td>\n      <td>...</td>\n    </tr>\n    <tr>\n      <th>1449</th>\n      <td>Fu99kvYLObFdDEolQPJf</td>\n      <td>0.000000</td>\n      <td>0.008376</td>\n      <td>0.010840</td>\n      <td>0.003695</td>\n      <td>0.011086</td>\n      <td>0.005174</td>\n      <td>0.004927</td>\n      <td>0.006898</td>\n      <td>0.004927</td>\n      <td>...</td>\n      <td>0.000985</td>\n      <td>0.000985</td>\n      <td>0.002710</td>\n      <td>0.000000</td>\n      <td>0.000000</td>\n      <td>0.001232</td>\n      <td>0.000493</td>\n      <td>0.003449</td>\n      <td>0.000000</td>\n      <td>0.697709</td>\n    </tr>\n    <tr>\n      <th>1450</th>\n      <td>I8EwzZrIiWLe5SP2MLGv</td>\n      <td>0.009490</td>\n      <td>0.002052</td>\n      <td>0.013080</td>\n      <td>0.001539</td>\n      <td>0.010259</td>\n      <td>0.003847</td>\n      <td>0.004873</td>\n      <td>0.005386</td>\n      <td>0.004360</td>\n      <td>...</td>\n      <td>0.005130</td>\n      <td>0.003334</td>\n      <td>0.005642</td>\n      <td>0.001282</td>\n      <td>0.010003</td>\n      <td>0.002052</td>\n      <td>0.005899</td>\n      <td>0.005130</td>\n      <td>0.002821</td>\n      <td>0.454219</td>\n    </tr>\n    <tr>\n      <th>1451</th>\n      <td>FC07oWVDi4EJz1NPOTRw</td>\n      <td>0.008833</td>\n      <td>0.000000</td>\n      <td>0.008306</td>\n      <td>0.004351</td>\n      <td>0.003428</td>\n      <td>0.001450</td>\n      <td>0.005801</td>\n      <td>0.004878</td>\n      <td>0.006196</td>\n      <td>...</td>\n      <td>0.000132</td>\n      <td>0.007779</td>\n      <td>0.000000</td>\n      <td>0.005010</td>\n      <td>0.000264</td>\n      <td>0.002900</td>\n      <td>0.000000</td>\n      <td>0.005274</td>\n      <td>0.000000</td>\n      <td>0.708372</td>\n    </tr>\n    <tr>\n      <th>1452</th>\n      <td>Pf4Ae6IOVapo0dh6lNZX</td>\n      <td>0.006417</td>\n      <td>0.008289</td>\n      <td>0.009091</td>\n      <td>0.006016</td>\n      <td>0.004813</td>\n      <td>0.008824</td>\n      <td>0.010428</td>\n      <td>0.005749</td>\n      <td>0.010160</td>\n      <td>...</td>\n      <td>0.004278</td>\n      <td>0.008155</td>\n      <td>0.003342</td>\n      <td>0.010428</td>\n      <td>0.006283</td>\n      <td>0.009225</td>\n      <td>0.005348</td>\n      <td>0.001471</td>\n      <td>0.015241</td>\n      <td>0.460695</td>\n    </tr>\n    <tr>\n      <th>1453</th>\n      <td>sX1f0IigLUCRZ7QZBF0h</td>\n      <td>0.000392</td>\n      <td>0.000392</td>\n      <td>0.000261</td>\n      <td>0.001960</td>\n      <td>0.000131</td>\n      <td>0.005097</td>\n      <td>0.000000</td>\n      <td>0.002483</td>\n      <td>0.002875</td>\n      <td>...</td>\n      <td>0.001045</td>\n      <td>0.000392</td>\n      <td>0.003398</td>\n      <td>0.000392</td>\n      <td>0.001176</td>\n      <td>0.000392</td>\n      <td>0.005097</td>\n      <td>0.000000</td>\n      <td>0.001830</td>\n      <td>0.645452</td>\n    </tr>\n  </tbody>\n</table>\n<p>1453 rows × 102 columns</p>\n</div>"
     },
     "execution_count": 79,
     "metadata": {},
     "output_type": "execute_result"
    }
   ],
   "source": [
    "df[\"Unnamed: 0\"] = df[\"Unnamed: 0\"].apply(lambda x: x.split(\".\")[0])\n",
    "df"
   ],
   "metadata": {
    "collapsed": false,
    "ExecuteTime": {
     "end_time": "2023-11-18T10:40:14.620123Z",
     "start_time": "2023-11-18T10:40:14.608416Z"
    }
   }
  },
  {
   "cell_type": "code",
   "execution_count": 80,
   "outputs": [
    {
     "data": {
      "text/plain": "      Unnamed: 0                   sid  PHQ9  BDI  has_depression  \\\n0              0  phCuOQH98uz4GwmMIvb7    21   20               1   \n1              1  SsLnwVPamBVnth2xfvtP    18   31               1   \n2              2  Ro2d4ko1sbAXgymERH1v    11   20               1   \n3              3  SKyBynt433ddTJgyz6fL     5    5               0   \n4              4  YCstEssT38mPc9moNvOo     2    2               0   \n...          ...                   ...   ...  ...             ...   \n3097        3097  8OJGO9yVgXs6rZCg3dwp    18   19               1   \n3098        3098  0yffjwdfj51UTCr61FBj    22   27               1   \n3099        3099  Y2ekdlhBNm2dYKq5ycwI    15   16               1   \n3100        3100  gi5RnM4xFmFutnFKqxuY    17   21               1   \n3101        3101  PKX4ADJ7d26mF6nolZwA    20   30               1   \n\n      depression_severity  \n0                       4  \n1                       3  \n2                       2  \n3                       1  \n4                       0  \n...                   ...  \n3097                    3  \n3098                    4  \n3099                    3  \n3100                    3  \n3101                    4  \n\n[3102 rows x 6 columns]",
      "text/html": "<div>\n<style scoped>\n    .dataframe tbody tr th:only-of-type {\n        vertical-align: middle;\n    }\n\n    .dataframe tbody tr th {\n        vertical-align: top;\n    }\n\n    .dataframe thead th {\n        text-align: right;\n    }\n</style>\n<table border=\"1\" class=\"dataframe\">\n  <thead>\n    <tr style=\"text-align: right;\">\n      <th></th>\n      <th>Unnamed: 0</th>\n      <th>sid</th>\n      <th>PHQ9</th>\n      <th>BDI</th>\n      <th>has_depression</th>\n      <th>depression_severity</th>\n    </tr>\n  </thead>\n  <tbody>\n    <tr>\n      <th>0</th>\n      <td>0</td>\n      <td>phCuOQH98uz4GwmMIvb7</td>\n      <td>21</td>\n      <td>20</td>\n      <td>1</td>\n      <td>4</td>\n    </tr>\n    <tr>\n      <th>1</th>\n      <td>1</td>\n      <td>SsLnwVPamBVnth2xfvtP</td>\n      <td>18</td>\n      <td>31</td>\n      <td>1</td>\n      <td>3</td>\n    </tr>\n    <tr>\n      <th>2</th>\n      <td>2</td>\n      <td>Ro2d4ko1sbAXgymERH1v</td>\n      <td>11</td>\n      <td>20</td>\n      <td>1</td>\n      <td>2</td>\n    </tr>\n    <tr>\n      <th>3</th>\n      <td>3</td>\n      <td>SKyBynt433ddTJgyz6fL</td>\n      <td>5</td>\n      <td>5</td>\n      <td>0</td>\n      <td>1</td>\n    </tr>\n    <tr>\n      <th>4</th>\n      <td>4</td>\n      <td>YCstEssT38mPc9moNvOo</td>\n      <td>2</td>\n      <td>2</td>\n      <td>0</td>\n      <td>0</td>\n    </tr>\n    <tr>\n      <th>...</th>\n      <td>...</td>\n      <td>...</td>\n      <td>...</td>\n      <td>...</td>\n      <td>...</td>\n      <td>...</td>\n    </tr>\n    <tr>\n      <th>3097</th>\n      <td>3097</td>\n      <td>8OJGO9yVgXs6rZCg3dwp</td>\n      <td>18</td>\n      <td>19</td>\n      <td>1</td>\n      <td>3</td>\n    </tr>\n    <tr>\n      <th>3098</th>\n      <td>3098</td>\n      <td>0yffjwdfj51UTCr61FBj</td>\n      <td>22</td>\n      <td>27</td>\n      <td>1</td>\n      <td>4</td>\n    </tr>\n    <tr>\n      <th>3099</th>\n      <td>3099</td>\n      <td>Y2ekdlhBNm2dYKq5ycwI</td>\n      <td>15</td>\n      <td>16</td>\n      <td>1</td>\n      <td>3</td>\n    </tr>\n    <tr>\n      <th>3100</th>\n      <td>3100</td>\n      <td>gi5RnM4xFmFutnFKqxuY</td>\n      <td>17</td>\n      <td>21</td>\n      <td>1</td>\n      <td>3</td>\n    </tr>\n    <tr>\n      <th>3101</th>\n      <td>3101</td>\n      <td>PKX4ADJ7d26mF6nolZwA</td>\n      <td>20</td>\n      <td>30</td>\n      <td>1</td>\n      <td>4</td>\n    </tr>\n  </tbody>\n</table>\n<p>3102 rows × 6 columns</p>\n</div>"
     },
     "execution_count": 80,
     "metadata": {},
     "output_type": "execute_result"
    }
   ],
   "source": [
    "df_labels"
   ],
   "metadata": {
    "collapsed": false,
    "ExecuteTime": {
     "end_time": "2023-11-18T10:40:14.620209Z",
     "start_time": "2023-11-18T10:40:14.614290Z"
    }
   }
  },
  {
   "cell_type": "code",
   "execution_count": 81,
   "outputs": [
    {
     "data": {
      "text/plain": "                       sid  PHQ9  BDI  has_depression  depression_severity\n0     ykb8Kau47lOpf94ogXqW    26   35               1                    4\n1     9kaeHX0tKCwDx3YTqtKa    10   28               1                    2\n2     UEGF9hSh8QZt8KSYiXWp     8   35               0                    1\n3     6xXlQ54eY3eQmQK85PWZ    23   38               1                    4\n4     rrU7PfbZjJ1PYPQfpsBC    14   12               1                    2\n...                    ...   ...  ...             ...                  ...\n1448  Fu99kvYLObFdDEolQPJf    14   10               1                    2\n1449  I8EwzZrIiWLe5SP2MLGv     8   16               0                    1\n1450  FC07oWVDi4EJz1NPOTRw     6    5               0                    1\n1451  Pf4Ae6IOVapo0dh6lNZX    17   15               1                    3\n1452  sX1f0IigLUCRZ7QZBF0h    21   35               1                    4\n\n[1453 rows x 5 columns]",
      "text/html": "<div>\n<style scoped>\n    .dataframe tbody tr th:only-of-type {\n        vertical-align: middle;\n    }\n\n    .dataframe tbody tr th {\n        vertical-align: top;\n    }\n\n    .dataframe thead th {\n        text-align: right;\n    }\n</style>\n<table border=\"1\" class=\"dataframe\">\n  <thead>\n    <tr style=\"text-align: right;\">\n      <th></th>\n      <th>sid</th>\n      <th>PHQ9</th>\n      <th>BDI</th>\n      <th>has_depression</th>\n      <th>depression_severity</th>\n    </tr>\n  </thead>\n  <tbody>\n    <tr>\n      <th>0</th>\n      <td>ykb8Kau47lOpf94ogXqW</td>\n      <td>26</td>\n      <td>35</td>\n      <td>1</td>\n      <td>4</td>\n    </tr>\n    <tr>\n      <th>1</th>\n      <td>9kaeHX0tKCwDx3YTqtKa</td>\n      <td>10</td>\n      <td>28</td>\n      <td>1</td>\n      <td>2</td>\n    </tr>\n    <tr>\n      <th>2</th>\n      <td>UEGF9hSh8QZt8KSYiXWp</td>\n      <td>8</td>\n      <td>35</td>\n      <td>0</td>\n      <td>1</td>\n    </tr>\n    <tr>\n      <th>3</th>\n      <td>6xXlQ54eY3eQmQK85PWZ</td>\n      <td>23</td>\n      <td>38</td>\n      <td>1</td>\n      <td>4</td>\n    </tr>\n    <tr>\n      <th>4</th>\n      <td>rrU7PfbZjJ1PYPQfpsBC</td>\n      <td>14</td>\n      <td>12</td>\n      <td>1</td>\n      <td>2</td>\n    </tr>\n    <tr>\n      <th>...</th>\n      <td>...</td>\n      <td>...</td>\n      <td>...</td>\n      <td>...</td>\n      <td>...</td>\n    </tr>\n    <tr>\n      <th>1448</th>\n      <td>Fu99kvYLObFdDEolQPJf</td>\n      <td>14</td>\n      <td>10</td>\n      <td>1</td>\n      <td>2</td>\n    </tr>\n    <tr>\n      <th>1449</th>\n      <td>I8EwzZrIiWLe5SP2MLGv</td>\n      <td>8</td>\n      <td>16</td>\n      <td>0</td>\n      <td>1</td>\n    </tr>\n    <tr>\n      <th>1450</th>\n      <td>FC07oWVDi4EJz1NPOTRw</td>\n      <td>6</td>\n      <td>5</td>\n      <td>0</td>\n      <td>1</td>\n    </tr>\n    <tr>\n      <th>1451</th>\n      <td>Pf4Ae6IOVapo0dh6lNZX</td>\n      <td>17</td>\n      <td>15</td>\n      <td>1</td>\n      <td>3</td>\n    </tr>\n    <tr>\n      <th>1452</th>\n      <td>sX1f0IigLUCRZ7QZBF0h</td>\n      <td>21</td>\n      <td>35</td>\n      <td>1</td>\n      <td>4</td>\n    </tr>\n  </tbody>\n</table>\n<p>1453 rows × 5 columns</p>\n</div>"
     },
     "execution_count": 81,
     "metadata": {},
     "output_type": "execute_result"
    }
   ],
   "source": [
    "df_labels_chunk = pd.merge(df[[\"Unnamed: 0\"]], df_labels, \"inner\", left_on=\"Unnamed: 0\", right_on=\"sid\")\n",
    "df_labels_chunk.drop([\"Unnamed: 0_x\", \"Unnamed: 0_y\"], inplace=True, axis=1)\n",
    "df_labels_chunk"
   ],
   "metadata": {
    "collapsed": false,
    "ExecuteTime": {
     "end_time": "2023-11-18T10:40:14.627235Z",
     "start_time": "2023-11-18T10:40:14.620622Z"
    }
   }
  },
  {
   "cell_type": "code",
   "execution_count": 82,
   "outputs": [
    {
     "data": {
      "text/plain": "array([[1.64262248e-02, 0.00000000e+00, 1.95686331e-02, ...,\n        8.85587773e-03, 0.00000000e+00, 2.22253964e-01],\n       [2.59118995e-03, 0.00000000e+00, 0.00000000e+00, ...,\n        2.39186765e-03, 1.19593382e-03, 8.67251345e-01],\n       [1.25313283e-02, 1.84672207e-03, 1.70162248e-02, ...,\n        1.75438596e-02, 0.00000000e+00, 5.02176494e-01],\n       ...,\n       [8.83322347e-03, 0.00000000e+00, 8.30586684e-03, ...,\n        5.27356625e-03, 0.00000000e+00, 7.08371786e-01],\n       [6.41711230e-03, 8.28877005e-03, 9.09090909e-03, ...,\n        1.47058824e-03, 1.52406417e-02, 4.60695187e-01],\n       [3.92054365e-04, 3.92054365e-04, 2.61369577e-04, ...,\n        0.00000000e+00, 1.82958704e-03, 6.45452169e-01]])"
     },
     "execution_count": 82,
     "metadata": {},
     "output_type": "execute_result"
    }
   ],
   "source": [
    "df.drop([\"Unnamed: 0\"], axis=1, inplace=True)\n",
    "X = df.to_numpy().reshape(-1, 101)\n",
    "X"
   ],
   "metadata": {
    "collapsed": false,
    "ExecuteTime": {
     "end_time": "2023-11-18T10:40:14.631472Z",
     "start_time": "2023-11-18T10:40:14.626028Z"
    }
   }
  },
  {
   "cell_type": "code",
   "execution_count": 83,
   "outputs": [
    {
     "data": {
      "text/plain": "array([4, 2, 1, ..., 1, 3, 4])"
     },
     "execution_count": 83,
     "metadata": {},
     "output_type": "execute_result"
    }
   ],
   "source": [
    "y = df_labels_chunk[\"depression_severity\"].to_numpy().flatten()\n",
    "y"
   ],
   "metadata": {
    "collapsed": false,
    "ExecuteTime": {
     "end_time": "2023-11-18T10:40:14.635297Z",
     "start_time": "2023-11-18T10:40:14.630211Z"
    }
   }
  },
  {
   "cell_type": "code",
   "execution_count": 84,
   "outputs": [
    {
     "data": {
      "text/plain": "(1453, 1453)"
     },
     "execution_count": 84,
     "metadata": {},
     "output_type": "execute_result"
    }
   ],
   "source": [
    "len(X), len(y)"
   ],
   "metadata": {
    "collapsed": false,
    "ExecuteTime": {
     "end_time": "2023-11-18T10:40:14.635373Z",
     "start_time": "2023-11-18T10:40:14.633310Z"
    }
   }
  },
  {
   "cell_type": "code",
   "execution_count": 85,
   "outputs": [],
   "source": [
    "import numpy as np\n",
    "\n",
    "def balance_dataset(X, y, m):\n",
    "    unique_classes, class_counts = np.unique(y, return_counts=True)\n",
    "\n",
    "    # Find the minimum count across all classes\n",
    "    min_count = min(class_counts)\n",
    "\n",
    "    # Initialize lists to store the trimmed data and labels\n",
    "    X_trimmed = []\n",
    "    y_trimmed = []\n",
    "\n",
    "    for cls in unique_classes:\n",
    "        # Indices of the current class\n",
    "        indices = np.where(y == cls)[0]\n",
    "\n",
    "        # Trim the indices to have exactly 'm' occurrences\n",
    "        trimmed_indices = np.random.choice(indices, size=min(m, len(indices)), replace=False)\n",
    "\n",
    "        # Append the trimmed data and labels\n",
    "        X_trimmed.append(X[trimmed_indices])\n",
    "        y_trimmed.append(y[trimmed_indices])\n",
    "\n",
    "    # Concatenate the trimmed data and labels\n",
    "    X_trimmed = np.concatenate(X_trimmed)\n",
    "    y_trimmed = np.concatenate(y_trimmed)\n",
    "\n",
    "    return X_trimmed, y_trimmed"
   ],
   "metadata": {
    "collapsed": false,
    "ExecuteTime": {
     "end_time": "2023-11-18T10:40:14.640443Z",
     "start_time": "2023-11-18T10:40:14.637026Z"
    }
   }
  },
  {
   "cell_type": "code",
   "execution_count": 86,
   "outputs": [],
   "source": [
    "X_bal, y_bal = balance_dataset(np.asarray(X), np.asarray(y), 500)"
   ],
   "metadata": {
    "collapsed": false,
    "ExecuteTime": {
     "end_time": "2023-11-18T10:40:14.665425Z",
     "start_time": "2023-11-18T10:40:14.639653Z"
    }
   }
  },
  {
   "cell_type": "code",
   "execution_count": 87,
   "outputs": [
    {
     "data": {
      "text/plain": "(1453, 1453)"
     },
     "execution_count": 87,
     "metadata": {},
     "output_type": "execute_result"
    }
   ],
   "source": [
    "len(X_bal), len(y_bal)"
   ],
   "metadata": {
    "collapsed": false,
    "ExecuteTime": {
     "end_time": "2023-11-18T10:40:14.665835Z",
     "start_time": "2023-11-18T10:40:14.646453Z"
    }
   }
  },
  {
   "cell_type": "markdown",
   "source": [
    "---\n",
    "## Multi-class classification"
   ],
   "metadata": {
    "collapsed": false
   }
  },
  {
   "cell_type": "code",
   "execution_count": 88,
   "outputs": [
    {
     "data": {
      "text/plain": "<Figure size 640x480 with 1 Axes>",
      "image/png": "[encoded data removed]"
     },
     "metadata": {},
     "output_type": "display_data"
    }
   ],
   "source": [
    "import matplotlib.pyplot as plt\n",
    "\n",
    "plt.hist(y_bal, bins=5, ec='black')\n",
    "plt.title('Depression level distribution')\n",
    "plt.xlabel('Level')\n",
    "plt.ylabel('Count')\n",
    "plt.show()"
   ],
   "metadata": {
    "collapsed": false,
    "ExecuteTime": {
     "end_time": "2023-11-18T10:40:14.965570Z",
     "start_time": "2023-11-18T10:40:14.648313Z"
    }
   }
  },
  {
   "cell_type": "code",
   "execution_count": 89,
   "outputs": [],
   "source": [
    "from sklearn.model_selection import train_test_split\n",
    "X_train, X_test, y_train, y_test = train_test_split(X_bal, y_bal, test_size=0.2, random_state=42)"
   ],
   "metadata": {
    "collapsed": false,
    "ExecuteTime": {
     "end_time": "2023-11-18T10:40:14.965913Z",
     "start_time": "2023-11-18T10:40:14.835911Z"
    }
   }
  },
  {
   "cell_type": "code",
   "execution_count": 90,
   "outputs": [
    {
     "name": "stdout",
     "output_type": "stream",
     "text": [
      "Nearest Neighbors: 0.19244\n",
      "Linear SVM: 0.35052\n",
      "RBF SVM: 0.33677\n"
     ]
    },
    {
     "name": "stderr",
     "output_type": "stream",
     "text": [
      "/Users/alorthius/anaconda3/envs/innovaid/lib/python3.10/site-packages/sklearn/gaussian_process/kernels.py:429: ConvergenceWarning: The optimal value found for dimension 0 of parameter k2__length_scale is close to the specified upper bound 100000.0. Increasing the bound and calling fit again may find a better value.\n",
      "  warnings.warn(\n"
     ]
    },
    {
     "name": "stdout",
     "output_type": "stream",
     "text": [
      "Gaussian Process: 0.34364\n",
      "Decision Tree: 0.27491\n",
      "Random Forest: 0.29553\n",
      "Neural Net: 0.31959\n",
      "AdaBoost: 0.30584\n",
      "Naive Bayes: 0.23368\n",
      "QDA: 0.27491\n"
     ]
    },
    {
     "name": "stderr",
     "output_type": "stream",
     "text": [
      "/Users/alorthius/anaconda3/envs/innovaid/lib/python3.10/site-packages/sklearn/discriminant_analysis.py:935: UserWarning: Variables are collinear\n",
      "  warnings.warn(\"Variables are collinear\")\n"
     ]
    }
   ],
   "source": [
    "from sklearn.discriminant_analysis import QuadraticDiscriminantAnalysis\n",
    "from sklearn.ensemble import AdaBoostClassifier, RandomForestClassifier\n",
    "from sklearn.gaussian_process import GaussianProcessClassifier\n",
    "from sklearn.gaussian_process.kernels import RBF\n",
    "from sklearn.naive_bayes import GaussianNB\n",
    "from sklearn.neighbors import KNeighborsClassifier\n",
    "from sklearn.neural_network import MLPClassifier\n",
    "from sklearn.pipeline import make_pipeline\n",
    "from sklearn.preprocessing import StandardScaler\n",
    "from sklearn.svm import SVC\n",
    "from sklearn.tree import DecisionTreeClassifier\n",
    "\n",
    "\n",
    "\n",
    "names = [\n",
    "    \"Nearest Neighbors\",\n",
    "    \"Linear SVM\",\n",
    "    \"RBF SVM\",\n",
    "    \"Gaussian Process\",\n",
    "    \"Decision Tree\",\n",
    "    \"Random Forest\",\n",
    "    \"Neural Net\",\n",
    "    \"AdaBoost\",\n",
    "    \"Naive Bayes\",\n",
    "    \"QDA\",\n",
    "]\n",
    "\n",
    "classifiers = [\n",
    "    KNeighborsClassifier(3),\n",
    "    SVC(kernel=\"linear\", C=0.025, random_state=42),\n",
    "    SVC(gamma=2, C=1, random_state=42),\n",
    "    GaussianProcessClassifier(1.0 * RBF(1.0), random_state=42),\n",
    "    DecisionTreeClassifier(max_depth=5, random_state=42),\n",
    "    RandomForestClassifier(\n",
    "        max_depth=5, n_estimators=10, max_features=1, random_state=42\n",
    "    ),\n",
    "    MLPClassifier(alpha=1, max_iter=1000, random_state=42),\n",
    "    AdaBoostClassifier(random_state=42),\n",
    "    GaussianNB(),\n",
    "    QuadraticDiscriminantAnalysis(),\n",
    "]\n",
    "\n",
    "\n",
    "for name, clf in zip(names, classifiers):\n",
    "        clf = make_pipeline(StandardScaler(), clf)\n",
    "        clf.fit(X_train, y_train)\n",
    "        score = clf.score(X_test, y_test)\n",
    "        print(f'{name}: {round(score, 5)}')"
   ],
   "metadata": {
    "collapsed": false,
    "ExecuteTime": {
     "end_time": "2023-11-18T10:40:50.232310Z",
     "start_time": "2023-11-18T10:40:14.836208Z"
    }
   }
  },
  {
   "cell_type": "markdown",
   "source": [
    "---"
   ],
   "metadata": {
    "collapsed": false
   }
  },
  {
   "cell_type": "code",
   "execution_count": 90,
   "outputs": [],
   "source": [],
   "metadata": {
    "collapsed": false,
    "ExecuteTime": {
     "end_time": "2023-11-18T10:40:50.233380Z",
     "start_time": "2023-11-18T10:40:50.232119Z"
    }
   }
  }
 ],
 "metadata": {
  "kernelspec": {
   "display_name": "Python 3",
   "language": "python",
   "name": "python3"
  },
  "language_info": {
   "codemirror_mode": {
    "name": "ipython",
    "version": 2
   },
   "file_extension": ".py",
   "mimetype": "text/x-python",
   "name": "python",
   "nbconvert_exporter": "python",
   "pygments_lexer": "ipython2",
   "version": "2.7.6"
  }
 },
 "nbformat": 4,
 "nbformat_minor": 0
}
