{
 "cells": [
  {
   "cell_type": "code",
   "execution_count": 42,
   "metadata": {
    "collapsed": true,
    "ExecuteTime": {
     "end_time": "2023-11-17T12:32:23.053598Z",
     "start_time": "2023-11-17T12:32:23.049685Z"
    }
   },
   "outputs": [],
   "source": [
    "import pandas as pd"
   ]
  },
  {
   "cell_type": "code",
   "execution_count": 43,
   "outputs": [
    {
     "data": {
      "text/plain": "   Unnamed: 0                   sid  PHQ9  BDI\n0           0  phCuOQH98uz4GwmMIvb7    21   20\n1           1  SsLnwVPamBVnth2xfvtP    18   31\n2           2  Ro2d4ko1sbAXgymERH1v    11   20\n3           3  SKyBynt433ddTJgyz6fL     5    5\n4           4  YCstEssT38mPc9moNvOo     2    2",
      "text/html": "<div>\n<style scoped>\n    .dataframe tbody tr th:only-of-type {\n        vertical-align: middle;\n    }\n\n    .dataframe tbody tr th {\n        vertical-align: top;\n    }\n\n    .dataframe thead th {\n        text-align: right;\n    }\n</style>\n<table border=\"1\" class=\"dataframe\">\n  <thead>\n    <tr style=\"text-align: right;\">\n      <th></th>\n      <th>Unnamed: 0</th>\n      <th>sid</th>\n      <th>PHQ9</th>\n      <th>BDI</th>\n    </tr>\n  </thead>\n  <tbody>\n    <tr>\n      <th>0</th>\n      <td>0</td>\n      <td>phCuOQH98uz4GwmMIvb7</td>\n      <td>21</td>\n      <td>20</td>\n    </tr>\n    <tr>\n      <th>1</th>\n      <td>1</td>\n      <td>SsLnwVPamBVnth2xfvtP</td>\n      <td>18</td>\n      <td>31</td>\n    </tr>\n    <tr>\n      <th>2</th>\n      <td>2</td>\n      <td>Ro2d4ko1sbAXgymERH1v</td>\n      <td>11</td>\n      <td>20</td>\n    </tr>\n    <tr>\n      <th>3</th>\n      <td>3</td>\n      <td>SKyBynt433ddTJgyz6fL</td>\n      <td>5</td>\n      <td>5</td>\n    </tr>\n    <tr>\n      <th>4</th>\n      <td>4</td>\n      <td>YCstEssT38mPc9moNvOo</td>\n      <td>2</td>\n      <td>2</td>\n    </tr>\n  </tbody>\n</table>\n</div>"
     },
     "execution_count": 43,
     "metadata": {},
     "output_type": "execute_result"
    }
   ],
   "source": [
    "df = pd.read_csv(\"data/innovaid_hackathon_anima/output.csv\")\n",
    "df.head()"
   ],
   "metadata": {
    "collapsed": false,
    "ExecuteTime": {
     "end_time": "2023-11-17T12:32:23.060379Z",
     "start_time": "2023-11-17T12:32:23.052805Z"
    }
   }
  },
  {
   "cell_type": "code",
   "execution_count": 44,
   "outputs": [
    {
     "data": {
      "text/plain": "   Unnamed: 0                   sid  PHQ9  BDI  has_depression\n0           0  phCuOQH98uz4GwmMIvb7    21   20               1\n1           1  SsLnwVPamBVnth2xfvtP    18   31               1\n2           2  Ro2d4ko1sbAXgymERH1v    11   20               1\n3           3  SKyBynt433ddTJgyz6fL     5    5               0\n4           4  YCstEssT38mPc9moNvOo     2    2               0",
      "text/html": "<div>\n<style scoped>\n    .dataframe tbody tr th:only-of-type {\n        vertical-align: middle;\n    }\n\n    .dataframe tbody tr th {\n        vertical-align: top;\n    }\n\n    .dataframe thead th {\n        text-align: right;\n    }\n</style>\n<table border=\"1\" class=\"dataframe\">\n  <thead>\n    <tr style=\"text-align: right;\">\n      <th></th>\n      <th>Unnamed: 0</th>\n      <th>sid</th>\n      <th>PHQ9</th>\n      <th>BDI</th>\n      <th>has_depression</th>\n    </tr>\n  </thead>\n  <tbody>\n    <tr>\n      <th>0</th>\n      <td>0</td>\n      <td>phCuOQH98uz4GwmMIvb7</td>\n      <td>21</td>\n      <td>20</td>\n      <td>1</td>\n    </tr>\n    <tr>\n      <th>1</th>\n      <td>1</td>\n      <td>SsLnwVPamBVnth2xfvtP</td>\n      <td>18</td>\n      <td>31</td>\n      <td>1</td>\n    </tr>\n    <tr>\n      <th>2</th>\n      <td>2</td>\n      <td>Ro2d4ko1sbAXgymERH1v</td>\n      <td>11</td>\n      <td>20</td>\n      <td>1</td>\n    </tr>\n    <tr>\n      <th>3</th>\n      <td>3</td>\n      <td>SKyBynt433ddTJgyz6fL</td>\n      <td>5</td>\n      <td>5</td>\n      <td>0</td>\n    </tr>\n    <tr>\n      <th>4</th>\n      <td>4</td>\n      <td>YCstEssT38mPc9moNvOo</td>\n      <td>2</td>\n      <td>2</td>\n      <td>0</td>\n    </tr>\n  </tbody>\n</table>\n</div>"
     },
     "execution_count": 44,
     "metadata": {},
     "output_type": "execute_result"
    }
   ],
   "source": [
    "df[\"has_depression\"] = 0\n",
    "df.loc[df[\"PHQ9\"] >= 10, \"has_depression\"] = 1\n",
    "df.head()"
   ],
   "metadata": {
    "collapsed": false,
    "ExecuteTime": {
     "end_time": "2023-11-17T12:32:23.069355Z",
     "start_time": "2023-11-17T12:32:23.063576Z"
    }
   }
  },
  {
   "cell_type": "code",
   "execution_count": 45,
   "outputs": [
    {
     "data": {
      "text/plain": "   Unnamed: 0                   sid  PHQ9  BDI  has_depression  \\\n0           0  phCuOQH98uz4GwmMIvb7    21   20               1   \n1           1  SsLnwVPamBVnth2xfvtP    18   31               1   \n2           2  Ro2d4ko1sbAXgymERH1v    11   20               1   \n3           3  SKyBynt433ddTJgyz6fL     5    5               0   \n4           4  YCstEssT38mPc9moNvOo     2    2               0   \n\n   depression_severity  \n0                    4  \n1                    3  \n2                    2  \n3                    1  \n4                    0  ",
      "text/html": "<div>\n<style scoped>\n    .dataframe tbody tr th:only-of-type {\n        vertical-align: middle;\n    }\n\n    .dataframe tbody tr th {\n        vertical-align: top;\n    }\n\n    .dataframe thead th {\n        text-align: right;\n    }\n</style>\n<table border=\"1\" class=\"dataframe\">\n  <thead>\n    <tr style=\"text-align: right;\">\n      <th></th>\n      <th>Unnamed: 0</th>\n      <th>sid</th>\n      <th>PHQ9</th>\n      <th>BDI</th>\n      <th>has_depression</th>\n      <th>depression_severity</th>\n    </tr>\n  </thead>\n  <tbody>\n    <tr>\n      <th>0</th>\n      <td>0</td>\n      <td>phCuOQH98uz4GwmMIvb7</td>\n      <td>21</td>\n      <td>20</td>\n      <td>1</td>\n      <td>4</td>\n    </tr>\n    <tr>\n      <th>1</th>\n      <td>1</td>\n      <td>SsLnwVPamBVnth2xfvtP</td>\n      <td>18</td>\n      <td>31</td>\n      <td>1</td>\n      <td>3</td>\n    </tr>\n    <tr>\n      <th>2</th>\n      <td>2</td>\n      <td>Ro2d4ko1sbAXgymERH1v</td>\n      <td>11</td>\n      <td>20</td>\n      <td>1</td>\n      <td>2</td>\n    </tr>\n    <tr>\n      <th>3</th>\n      <td>3</td>\n      <td>SKyBynt433ddTJgyz6fL</td>\n      <td>5</td>\n      <td>5</td>\n      <td>0</td>\n      <td>1</td>\n    </tr>\n    <tr>\n      <th>4</th>\n      <td>4</td>\n      <td>YCstEssT38mPc9moNvOo</td>\n      <td>2</td>\n      <td>2</td>\n      <td>0</td>\n      <td>0</td>\n    </tr>\n  </tbody>\n</table>\n</div>"
     },
     "execution_count": 45,
     "metadata": {},
     "output_type": "execute_result"
    }
   ],
   "source": [
    "df[\"depression_severity\"] = 0\n",
    "\n",
    "df.loc[ (df[\"PHQ9\"] >= 5) & (df[\"PHQ9\"] <= 9), \"depression_severity\"] = 1\n",
    "df.loc[ (df[\"PHQ9\"] >= 10) & (df[\"PHQ9\"] <= 14), \"depression_severity\"] = 2\n",
    "df.loc[ (df[\"PHQ9\"] >= 15) & (df[\"PHQ9\"] <= 19), \"depression_severity\"] = 3\n",
    "df.loc[ (df[\"PHQ9\"] >= 20), \"depression_severity\"] = 4\n",
    "\n",
    "df.head()"
   ],
   "metadata": {
    "collapsed": false,
    "ExecuteTime": {
     "end_time": "2023-11-17T12:32:23.101525Z",
     "start_time": "2023-11-17T12:32:23.067983Z"
    }
   }
  },
  {
   "cell_type": "code",
   "execution_count": 46,
   "outputs": [],
   "source": [
    "df.to_csv(\"data/innovaid_hackathon_anima/output_classes.csv\", index=False)"
   ],
   "metadata": {
    "collapsed": false,
    "ExecuteTime": {
     "end_time": "2023-11-17T12:32:23.114194Z",
     "start_time": "2023-11-17T12:32:23.075501Z"
    }
   }
  }
 ],
 "metadata": {
  "kernelspec": {
   "display_name": "Python 3",
   "language": "python",
   "name": "python3"
  },
  "language_info": {
   "codemirror_mode": {
    "name": "ipython",
    "version": 2
   },
   "file_extension": ".py",
   "mimetype": "text/x-python",
   "name": "python",
   "nbconvert_exporter": "python",
   "pygments_lexer": "ipython2",
   "version": "2.7.6"
  }
 },
 "nbformat": 4,
 "nbformat_minor": 0
}
