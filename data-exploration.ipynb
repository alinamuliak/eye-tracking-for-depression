{
 "cells": [
  {
   "cell_type": "code",
   "execution_count": 1,
   "metadata": {
    "collapsed": true,
    "ExecuteTime": {
     "end_time": "2023-11-18T09:10:01.542250Z",
     "start_time": "2023-11-18T09:10:01.239621Z"
    }
   },
   "outputs": [],
   "source": [
    "import os\n",
    "\n",
    "import numpy as np\n",
    "import pandas as pd"
   ]
  },
  {
   "cell_type": "code",
   "execution_count": 2,
   "outputs": [
    {
     "data": {
      "text/plain": "{12479670.0,\n 12479671.0,\n 12479672.0,\n 12479674.0,\n 12479675.0,\n 12479677.0,\n 12479678.0,\n 12479680.0,\n 12479681.0,\n 12479683.0,\n 12479691.0,\n 12479693.0,\n 12479695.0,\n 12479696.0,\n 12479977.0,\n 12479978.0,\n 12479979.0,\n 12479980.0,\n 12479984.0,\n 12479985.0,\n 12479988.0,\n 12479989.0,\n 12479990.0,\n 12479991.0,\n 12479994.0,\n 12479995.0,\n 12480000.0,\n 12480002.0,\n 12480005.0,\n 12480006.0,\n 12480007.0,\n 12480008.0,\n 12480009.0,\n 12480022.0,\n 12480023.0,\n 12480027.0,\n 12480028.0,\n 12480030.0,\n 12480035.0,\n 12480036.0,\n 12480039.0,\n 12480045.0,\n 12480185.0,\n 12480189.0,\n 12480190.0,\n 12480192.0,\n 12480193.0,\n 12480194.0,\n 12480195.0,\n 12480197.0,\n 12480198.0,\n 12480199.0,\n 12480200.0,\n 12480203.0,\n 12480206.0,\n 12480210.0,\n 12480212.0,\n 12480213.0,\n 12480214.0,\n 12480215.0,\n 12480218.0,\n 12480219.0,\n 12480220.0,\n 12480221.0,\n 12480777.0,\n 12480779.0,\n 12480784.0,\n 12480785.0,\n 12481472.0,\n 12481473.0,\n 12481474.0,\n 12481475.0,\n 12481476.0,\n 12481618.0,\n 12481619.0,\n 12481621.0,\n 12481760.0,\n 12481764.0,\n 22586451.0,\n 22586452.0,\n 22586454.0,\n 22586455.0,\n 22586456.0,\n 22586457.0,\n 22586458.0,\n 22586459.0,\n 22586460.0,\n 22586461.0,\n 49478887.0,\n 49478888.0,\n 49478894.0,\n 49478895.0,\n 49478901.0,\n 49478902.0,\n 49478918.0,\n 49478921.0,\n 49478944.0,\n 49478948.0,\n 49478951.0,\n 49478955.0,\n 49478961.0,\n 49478962.0,\n 49478966.0,\n 49478970.0,\n 49478976.0,\n 49478982.0,\n 49478988.0,\n 49478991.0,\n 49478996.0,\n 49478998.0,\n 49478999.0,\n 49479002.0,\n 49479005.0,\n 49479010.0,\n 49479013.0,\n 49479019.0,\n 49479022.0,\n 49479031.0,\n 49479036.0,\n 49479038.0,\n 49479042.0,\n 49479043.0,\n 49479050.0,\n 49479053.0,\n 49479060.0,\n 49479064.0,\n 49479068.0,\n 49479070.0,\n 49479074.0,\n 49479077.0,\n 49479080.0,\n 49479085.0,\n 49479092.0,\n 49479097.0,\n 49479108.0,\n 49479111.0,\n 49479118.0,\n 49479121.0,\n 49479123.0,\n 49479129.0,\n 49479135.0,\n 49479139.0,\n 49479155.0,\n 49479160.0,\n 49479167.0,\n 49479171.0,\n 49479182.0,\n 49479187.0,\n 49479212.0,\n 49479219.0,\n 49479231.0,\n 49479250.0,\n 49479267.0,\n 49479276.0,\n 49479300.0,\n 49479308.0,\n 49479322.0,\n 49479330.0,\n 49479345.0,\n 49479355.0,\n 49479377.0,\n 49479383.0,\n 49479397.0,\n 49479407.0,\n 49492787.0,\n 49492788.0,\n 49492789.0,\n 49492790.0,\n 49492791.0,\n 49492792.0,\n 49492793.0,\n 49492795.0,\n 49492796.0,\n 49492797.0,\n 49492798.0,\n 49492799.0,\n 49492801.0,\n 49492802.0,\n 49492803.0,\n 49492805.0,\n 49492806.0,\n 49492807.0,\n 49492808.0,\n 49492809.0,\n 49492810.0,\n 49492811.0,\n 49492812.0,\n 49492813.0}"
     },
     "execution_count": 2,
     "metadata": {},
     "output_type": "execute_result"
    }
   ],
   "source": [
    "all_images_id = set()\n",
    "for f in os.listdir('data/innovaid_hackathon_anima/input'):\n",
    "    df = pd.read_csv(os.path.join('data/innovaid_hackathon_anima/input', f))\n",
    "    for v in df['IMAGE'].to_numpy():\n",
    "        if not np.isnan(v):\n",
    "            all_images_id.add(v)\n",
    "\n",
    "all_images_id"
   ],
   "metadata": {
    "collapsed": false,
    "ExecuteTime": {
     "end_time": "2023-11-18T09:10:30.843131Z",
     "start_time": "2023-11-18T09:10:01.541493Z"
    }
   }
  },
  {
   "cell_type": "code",
   "execution_count": 3,
   "outputs": [
    {
     "data": {
      "text/plain": "[12479670.0,\n 12479671.0,\n 12479672.0,\n 12479674.0,\n 12479675.0,\n 12479677.0,\n 12479678.0,\n 12479680.0,\n 12479681.0,\n 12479683.0,\n 12479691.0,\n 12479693.0,\n 12479695.0,\n 12479696.0,\n 12479977.0,\n 12479978.0,\n 12479979.0,\n 12479980.0,\n 12479984.0,\n 12479985.0,\n 12479988.0,\n 12479989.0,\n 12479990.0,\n 12479991.0,\n 12479994.0,\n 12479995.0,\n 12480000.0,\n 12480002.0,\n 12480005.0,\n 12480006.0,\n 12480007.0,\n 12480008.0,\n 12480009.0,\n 12480022.0,\n 12480023.0,\n 12480027.0,\n 12480028.0,\n 12480030.0,\n 12480035.0,\n 12480036.0,\n 12480039.0,\n 12480045.0,\n 12480185.0,\n 12480189.0,\n 12480190.0,\n 12480192.0,\n 12480193.0,\n 12480194.0,\n 12480195.0,\n 12480197.0,\n 12480198.0,\n 12480199.0,\n 12480200.0,\n 12480203.0,\n 12480206.0,\n 12480210.0,\n 12480212.0,\n 12480213.0,\n 12480214.0,\n 12480215.0,\n 12480218.0,\n 12480219.0,\n 12480220.0,\n 12480221.0,\n 12480777.0,\n 12480779.0,\n 12480784.0,\n 12480785.0,\n 12481472.0,\n 12481473.0,\n 12481474.0,\n 12481475.0,\n 12481476.0,\n 12481618.0,\n 12481619.0,\n 12481621.0,\n 12481760.0,\n 12481764.0,\n 22586451.0,\n 22586452.0,\n 22586454.0,\n 22586455.0,\n 22586456.0,\n 22586457.0,\n 22586458.0,\n 22586459.0,\n 22586460.0,\n 22586461.0,\n 49478887.0,\n 49478888.0,\n 49478894.0,\n 49478895.0,\n 49478901.0,\n 49478902.0,\n 49478918.0,\n 49478921.0,\n 49478944.0,\n 49478948.0,\n 49478951.0,\n 49478955.0,\n 49478961.0,\n 49478962.0,\n 49478966.0,\n 49478970.0,\n 49478976.0,\n 49478982.0,\n 49478988.0,\n 49478991.0,\n 49478996.0,\n 49478998.0,\n 49478999.0,\n 49479002.0,\n 49479005.0,\n 49479010.0,\n 49479013.0,\n 49479019.0,\n 49479022.0,\n 49479031.0,\n 49479036.0,\n 49479038.0,\n 49479042.0,\n 49479043.0,\n 49479050.0,\n 49479053.0,\n 49479060.0,\n 49479064.0,\n 49479068.0,\n 49479070.0,\n 49479074.0,\n 49479077.0,\n 49479080.0,\n 49479085.0,\n 49479092.0,\n 49479097.0,\n 49479108.0,\n 49479111.0,\n 49479118.0,\n 49479121.0,\n 49479123.0,\n 49479129.0,\n 49479135.0,\n 49479139.0,\n 49479155.0,\n 49479160.0,\n 49479167.0,\n 49479171.0,\n 49479182.0,\n 49479187.0,\n 49479212.0,\n 49479219.0,\n 49479231.0,\n 49479250.0,\n 49479267.0,\n 49479276.0,\n 49479300.0,\n 49479308.0,\n 49479322.0,\n 49479330.0,\n 49479345.0,\n 49479355.0,\n 49479377.0,\n 49479383.0,\n 49479397.0,\n 49479407.0,\n 49492787.0,\n 49492788.0,\n 49492789.0,\n 49492790.0,\n 49492791.0,\n 49492792.0,\n 49492793.0,\n 49492795.0,\n 49492796.0,\n 49492797.0,\n 49492798.0,\n 49492799.0,\n 49492801.0,\n 49492802.0,\n 49492803.0,\n 49492805.0,\n 49492806.0,\n 49492807.0,\n 49492808.0,\n 49492809.0,\n 49492810.0,\n 49492811.0,\n 49492812.0,\n 49492813.0]"
     },
     "execution_count": 3,
     "metadata": {},
     "output_type": "execute_result"
    }
   ],
   "source": [
    "im_ids_list = sorted(all_images_id)\n",
    "im_ids_list"
   ],
   "metadata": {
    "collapsed": false,
    "ExecuteTime": {
     "end_time": "2023-11-18T09:10:30.846480Z",
     "start_time": "2023-11-18T09:10:30.843849Z"
    }
   }
  },
  {
   "cell_type": "code",
   "execution_count": 4,
   "outputs": [],
   "source": [
    "img_time = {}\n",
    "\n",
    "for f in os.listdir('data/innovaid_hackathon_anima/input'):\n",
    "    df = pd.read_csv(os.path.join('data/innovaid_hackathon_anima/input', f))\n",
    "    all_info = [0 for _ in range(len(im_ids_list) + 1)]\n",
    "    for img in df['IMAGE'].to_numpy():\n",
    "        if np.isnan(img):\n",
    "            all_info[-1] += 1\n",
    "        else:\n",
    "            all_info[im_ids_list.index(img)] += 1\n",
    "    all_info = np.array(all_info) / sum(all_info)\n",
    "    img_time[f] = all_info"
   ],
   "metadata": {
    "collapsed": false,
    "ExecuteTime": {
     "end_time": "2023-11-18T09:11:13.609466Z",
     "start_time": "2023-11-18T09:10:30.847961Z"
    }
   }
  },
  {
   "cell_type": "code",
   "execution_count": 5,
   "outputs": [
    {
     "data": {
      "text/plain": "                               0         1         2         3         4    \\\nNIWf76Hey8eftwtH7Mhn.csv  0.012683  0.000000  0.018537  0.007247  0.015749   \n5wkYPhQUJDJ5wj1V2Nk4.csv  0.000000  0.000000  0.000000  0.000000  0.000000   \nkrJ3q9NcKQ2elEdfUc2b.csv  0.002574  0.019305  0.003539  0.006757  0.015766   \nykb8Kau47lOpf94ogXqW.csv  0.000000  0.000000  0.000000  0.000000  0.000000   \n9kaeHX0tKCwDx3YTqtKa.csv  0.000000  0.000000  0.000000  0.000000  0.000000   \n...                            ...       ...       ...       ...       ...   \nVRBJWnNH1FLw3SosKEvd.csv  0.004647  0.006697  0.006833  0.007927  0.012437   \nPf4Ae6IOVapo0dh6lNZX.csv  0.000000  0.000000  0.000000  0.000000  0.000000   \nX3jVp2rej5Xf40Ox3xRH.csv  0.010125  0.008734  0.010570  0.011293  0.016244   \nYFT4vvlSEy6uF6NrJgdy.csv  0.004782  0.011690  0.007173  0.011823  0.015675   \nsX1f0IigLUCRZ7QZBF0h.csv  0.000000  0.000000  0.000000  0.000000  0.000000   \n\n                               5         6         7         8         9    \\\nNIWf76Hey8eftwtH7Mhn.csv  0.007526  0.014774  0.009338  0.008780  0.009477   \n5wkYPhQUJDJ5wj1V2Nk4.csv  0.000000  0.000000  0.000000  0.000000  0.000000   \nkrJ3q9NcKQ2elEdfUc2b.csv  0.000000  0.010618  0.006435  0.000000  0.000000   \nykb8Kau47lOpf94ogXqW.csv  0.000000  0.000000  0.000000  0.000000  0.000000   \n9kaeHX0tKCwDx3YTqtKa.csv  0.000000  0.000000  0.000000  0.000000  0.000000   \n...                            ...       ...       ...       ...       ...   \nVRBJWnNH1FLw3SosKEvd.csv  0.013120  0.002870  0.006560  0.012573  0.013393   \nPf4Ae6IOVapo0dh6lNZX.csv  0.000000  0.000000  0.000000  0.000000  0.000000   \nX3jVp2rej5Xf40Ox3xRH.csv  0.008122  0.010458  0.009568  0.010458  0.008956   \nYFT4vvlSEy6uF6NrJgdy.csv  0.011955  0.006243  0.007439  0.012620  0.014081   \nsX1f0IigLUCRZ7QZBF0h.csv  0.000000  0.000000  0.000000  0.000000  0.000000   \n\n                          ...       179       180       181       182  \\\nNIWf76Hey8eftwtH7Mhn.csv  ...  0.000000  0.000000  0.000000  0.000000   \n5wkYPhQUJDJ5wj1V2Nk4.csv  ...  0.000000  0.010708  0.000000  0.014322   \nkrJ3q9NcKQ2elEdfUc2b.csv  ...  0.000000  0.000000  0.000000  0.000000   \nykb8Kau47lOpf94ogXqW.csv  ...  0.000000  0.018140  0.000000  0.020140   \n9kaeHX0tKCwDx3YTqtKa.csv  ...  0.001395  0.005780  0.000797  0.001196   \n...                       ...       ...       ...       ...       ...   \nVRBJWnNH1FLw3SosKEvd.csv  ...  0.000000  0.000000  0.000000  0.000000   \nPf4Ae6IOVapo0dh6lNZX.csv  ...  0.004278  0.008155  0.003342  0.010428   \nX3jVp2rej5Xf40Ox3xRH.csv  ...  0.000000  0.000000  0.000000  0.000000   \nYFT4vvlSEy6uF6NrJgdy.csv  ...  0.000000  0.000000  0.000000  0.000000   \nsX1f0IigLUCRZ7QZBF0h.csv  ...  0.001045  0.000392  0.003398  0.000392   \n\n                               183       184       185       186       187  \\\nNIWf76Hey8eftwtH7Mhn.csv  0.000000  0.000000  0.000000  0.000000  0.000000   \n5wkYPhQUJDJ5wj1V2Nk4.csv  0.000000  0.012180  0.000000  0.013050  0.000000   \nkrJ3q9NcKQ2elEdfUc2b.csv  0.000000  0.000000  0.000000  0.000000  0.000000   \nykb8Kau47lOpf94ogXqW.csv  0.000000  0.010713  0.000000  0.008856  0.000000   \n9kaeHX0tKCwDx3YTqtKa.csv  0.002990  0.001794  0.004983  0.002392  0.001196   \n...                            ...       ...       ...       ...       ...   \nVRBJWnNH1FLw3SosKEvd.csv  0.000000  0.000000  0.000000  0.000000  0.000000   \nPf4Ae6IOVapo0dh6lNZX.csv  0.006283  0.009225  0.005348  0.001471  0.015241   \nX3jVp2rej5Xf40Ox3xRH.csv  0.000000  0.000000  0.000000  0.000000  0.000000   \nYFT4vvlSEy6uF6NrJgdy.csv  0.000000  0.000000  0.000000  0.000000  0.000000   \nsX1f0IigLUCRZ7QZBF0h.csv  0.001176  0.000392  0.005097  0.000000  0.001830   \n\n                               188  \nNIWf76Hey8eftwtH7Mhn.csv  0.295331  \n5wkYPhQUJDJ5wj1V2Nk4.csv  0.566055  \nkrJ3q9NcKQ2elEdfUc2b.csv  0.371943  \nykb8Kau47lOpf94ogXqW.csv  0.222254  \n9kaeHX0tKCwDx3YTqtKa.csv  0.867251  \n...                            ...  \nVRBJWnNH1FLw3SosKEvd.csv  0.362444  \nPf4Ae6IOVapo0dh6lNZX.csv  0.460695  \nX3jVp2rej5Xf40Ox3xRH.csv  0.046395  \nYFT4vvlSEy6uF6NrJgdy.csv  0.037327  \nsX1f0IigLUCRZ7QZBF0h.csv  0.645452  \n\n[3102 rows x 189 columns]",
      "text/html": "<div>\n<style scoped>\n    .dataframe tbody tr th:only-of-type {\n        vertical-align: middle;\n    }\n\n    .dataframe tbody tr th {\n        vertical-align: top;\n    }\n\n    .dataframe thead th {\n        text-align: right;\n    }\n</style>\n<table border=\"1\" class=\"dataframe\">\n  <thead>\n    <tr style=\"text-align: right;\">\n      <th></th>\n      <th>0</th>\n      <th>1</th>\n      <th>2</th>\n      <th>3</th>\n      <th>4</th>\n      <th>5</th>\n      <th>6</th>\n      <th>7</th>\n      <th>8</th>\n      <th>9</th>\n      <th>...</th>\n      <th>179</th>\n      <th>180</th>\n      <th>181</th>\n      <th>182</th>\n      <th>183</th>\n      <th>184</th>\n      <th>185</th>\n      <th>186</th>\n      <th>187</th>\n      <th>188</th>\n    </tr>\n  </thead>\n  <tbody>\n    <tr>\n      <th>NIWf76Hey8eftwtH7Mhn.csv</th>\n      <td>0.012683</td>\n      <td>0.000000</td>\n      <td>0.018537</td>\n      <td>0.007247</td>\n      <td>0.015749</td>\n      <td>0.007526</td>\n      <td>0.014774</td>\n      <td>0.009338</td>\n      <td>0.008780</td>\n      <td>0.009477</td>\n      <td>...</td>\n      <td>0.000000</td>\n      <td>0.000000</td>\n      <td>0.000000</td>\n      <td>0.000000</td>\n      <td>0.000000</td>\n      <td>0.000000</td>\n      <td>0.000000</td>\n      <td>0.000000</td>\n      <td>0.000000</td>\n      <td>0.295331</td>\n    </tr>\n    <tr>\n      <th>5wkYPhQUJDJ5wj1V2Nk4.csv</th>\n      <td>0.000000</td>\n      <td>0.000000</td>\n      <td>0.000000</td>\n      <td>0.000000</td>\n      <td>0.000000</td>\n      <td>0.000000</td>\n      <td>0.000000</td>\n      <td>0.000000</td>\n      <td>0.000000</td>\n      <td>0.000000</td>\n      <td>...</td>\n      <td>0.000000</td>\n      <td>0.010708</td>\n      <td>0.000000</td>\n      <td>0.014322</td>\n      <td>0.000000</td>\n      <td>0.012180</td>\n      <td>0.000000</td>\n      <td>0.013050</td>\n      <td>0.000000</td>\n      <td>0.566055</td>\n    </tr>\n    <tr>\n      <th>krJ3q9NcKQ2elEdfUc2b.csv</th>\n      <td>0.002574</td>\n      <td>0.019305</td>\n      <td>0.003539</td>\n      <td>0.006757</td>\n      <td>0.015766</td>\n      <td>0.000000</td>\n      <td>0.010618</td>\n      <td>0.006435</td>\n      <td>0.000000</td>\n      <td>0.000000</td>\n      <td>...</td>\n      <td>0.000000</td>\n      <td>0.000000</td>\n      <td>0.000000</td>\n      <td>0.000000</td>\n      <td>0.000000</td>\n      <td>0.000000</td>\n      <td>0.000000</td>\n      <td>0.000000</td>\n      <td>0.000000</td>\n      <td>0.371943</td>\n    </tr>\n    <tr>\n      <th>ykb8Kau47lOpf94ogXqW.csv</th>\n      <td>0.000000</td>\n      <td>0.000000</td>\n      <td>0.000000</td>\n      <td>0.000000</td>\n      <td>0.000000</td>\n      <td>0.000000</td>\n      <td>0.000000</td>\n      <td>0.000000</td>\n      <td>0.000000</td>\n      <td>0.000000</td>\n      <td>...</td>\n      <td>0.000000</td>\n      <td>0.018140</td>\n      <td>0.000000</td>\n      <td>0.020140</td>\n      <td>0.000000</td>\n      <td>0.010713</td>\n      <td>0.000000</td>\n      <td>0.008856</td>\n      <td>0.000000</td>\n      <td>0.222254</td>\n    </tr>\n    <tr>\n      <th>9kaeHX0tKCwDx3YTqtKa.csv</th>\n      <td>0.000000</td>\n      <td>0.000000</td>\n      <td>0.000000</td>\n      <td>0.000000</td>\n      <td>0.000000</td>\n      <td>0.000000</td>\n      <td>0.000000</td>\n      <td>0.000000</td>\n      <td>0.000000</td>\n      <td>0.000000</td>\n      <td>...</td>\n      <td>0.001395</td>\n      <td>0.005780</td>\n      <td>0.000797</td>\n      <td>0.001196</td>\n      <td>0.002990</td>\n      <td>0.001794</td>\n      <td>0.004983</td>\n      <td>0.002392</td>\n      <td>0.001196</td>\n      <td>0.867251</td>\n    </tr>\n    <tr>\n      <th>...</th>\n      <td>...</td>\n      <td>...</td>\n      <td>...</td>\n      <td>...</td>\n      <td>...</td>\n      <td>...</td>\n      <td>...</td>\n      <td>...</td>\n      <td>...</td>\n      <td>...</td>\n      <td>...</td>\n      <td>...</td>\n      <td>...</td>\n      <td>...</td>\n      <td>...</td>\n      <td>...</td>\n      <td>...</td>\n      <td>...</td>\n      <td>...</td>\n      <td>...</td>\n      <td>...</td>\n    </tr>\n    <tr>\n      <th>VRBJWnNH1FLw3SosKEvd.csv</th>\n      <td>0.004647</td>\n      <td>0.006697</td>\n      <td>0.006833</td>\n      <td>0.007927</td>\n      <td>0.012437</td>\n      <td>0.013120</td>\n      <td>0.002870</td>\n      <td>0.006560</td>\n      <td>0.012573</td>\n      <td>0.013393</td>\n      <td>...</td>\n      <td>0.000000</td>\n      <td>0.000000</td>\n      <td>0.000000</td>\n      <td>0.000000</td>\n      <td>0.000000</td>\n      <td>0.000000</td>\n      <td>0.000000</td>\n      <td>0.000000</td>\n      <td>0.000000</td>\n      <td>0.362444</td>\n    </tr>\n    <tr>\n      <th>Pf4Ae6IOVapo0dh6lNZX.csv</th>\n      <td>0.000000</td>\n      <td>0.000000</td>\n      <td>0.000000</td>\n      <td>0.000000</td>\n      <td>0.000000</td>\n      <td>0.000000</td>\n      <td>0.000000</td>\n      <td>0.000000</td>\n      <td>0.000000</td>\n      <td>0.000000</td>\n      <td>...</td>\n      <td>0.004278</td>\n      <td>0.008155</td>\n      <td>0.003342</td>\n      <td>0.010428</td>\n      <td>0.006283</td>\n      <td>0.009225</td>\n      <td>0.005348</td>\n      <td>0.001471</td>\n      <td>0.015241</td>\n      <td>0.460695</td>\n    </tr>\n    <tr>\n      <th>X3jVp2rej5Xf40Ox3xRH.csv</th>\n      <td>0.010125</td>\n      <td>0.008734</td>\n      <td>0.010570</td>\n      <td>0.011293</td>\n      <td>0.016244</td>\n      <td>0.008122</td>\n      <td>0.010458</td>\n      <td>0.009568</td>\n      <td>0.010458</td>\n      <td>0.008956</td>\n      <td>...</td>\n      <td>0.000000</td>\n      <td>0.000000</td>\n      <td>0.000000</td>\n      <td>0.000000</td>\n      <td>0.000000</td>\n      <td>0.000000</td>\n      <td>0.000000</td>\n      <td>0.000000</td>\n      <td>0.000000</td>\n      <td>0.046395</td>\n    </tr>\n    <tr>\n      <th>YFT4vvlSEy6uF6NrJgdy.csv</th>\n      <td>0.004782</td>\n      <td>0.011690</td>\n      <td>0.007173</td>\n      <td>0.011823</td>\n      <td>0.015675</td>\n      <td>0.011955</td>\n      <td>0.006243</td>\n      <td>0.007439</td>\n      <td>0.012620</td>\n      <td>0.014081</td>\n      <td>...</td>\n      <td>0.000000</td>\n      <td>0.000000</td>\n      <td>0.000000</td>\n      <td>0.000000</td>\n      <td>0.000000</td>\n      <td>0.000000</td>\n      <td>0.000000</td>\n      <td>0.000000</td>\n      <td>0.000000</td>\n      <td>0.037327</td>\n    </tr>\n    <tr>\n      <th>sX1f0IigLUCRZ7QZBF0h.csv</th>\n      <td>0.000000</td>\n      <td>0.000000</td>\n      <td>0.000000</td>\n      <td>0.000000</td>\n      <td>0.000000</td>\n      <td>0.000000</td>\n      <td>0.000000</td>\n      <td>0.000000</td>\n      <td>0.000000</td>\n      <td>0.000000</td>\n      <td>...</td>\n      <td>0.001045</td>\n      <td>0.000392</td>\n      <td>0.003398</td>\n      <td>0.000392</td>\n      <td>0.001176</td>\n      <td>0.000392</td>\n      <td>0.005097</td>\n      <td>0.000000</td>\n      <td>0.001830</td>\n      <td>0.645452</td>\n    </tr>\n  </tbody>\n</table>\n<p>3102 rows × 189 columns</p>\n</div>"
     },
     "execution_count": 5,
     "metadata": {},
     "output_type": "execute_result"
    }
   ],
   "source": [
    "df_img_time = pd.DataFrame.from_dict(img_time, orient='index')\n",
    "df_img_time.to_csv('data/innovaid_hackathon_anima/total_gaze_imgs.csv')\n",
    "df_img_time"
   ],
   "metadata": {
    "collapsed": false,
    "ExecuteTime": {
     "end_time": "2023-11-18T09:11:13.979552Z",
     "start_time": "2023-11-18T09:11:13.624643Z"
    }
   }
  },
  {
   "cell_type": "code",
   "execution_count": 6,
   "outputs": [
    {
     "data": {
      "text/plain": "(88, 100)"
     },
     "execution_count": 6,
     "metadata": {},
     "output_type": "execute_result"
    }
   ],
   "source": [
    "images_1 = set()\n",
    "images_4 = set()\n",
    "\n",
    "for f in os.listdir('data/innovaid_hackathon_anima/input'):\n",
    "    df = pd.read_csv(os.path.join('data/innovaid_hackathon_anima/input', f))\n",
    "    for v in df['IMAGE'].to_numpy():\n",
    "        if not np.isnan(v):\n",
    "            if str(v)[0] == \"1\" or str(v)[0] == \"2\":\n",
    "                images_1.add(v)\n",
    "            else:\n",
    "                images_4.add(v)\n",
    "\n",
    "len(images_1), len(images_4)"
   ],
   "metadata": {
    "collapsed": false,
    "ExecuteTime": {
     "end_time": "2023-11-18T09:16:29.365496Z",
     "start_time": "2023-11-18T09:15:55.243318Z"
    }
   }
  },
  {
   "cell_type": "code",
   "execution_count": 9,
   "outputs": [],
   "source": [
    "images_1 = sorted(images_1)\n",
    "images_1"
   ],
   "metadata": {
    "collapsed": false,
    "ExecuteTime": {
     "end_time": "2023-11-18T09:25:45.899520Z",
     "start_time": "2023-11-18T09:25:45.897466Z"
    }
   }
  },
  {
   "cell_type": "code",
   "execution_count": 10,
   "outputs": [
    {
     "data": {
      "text/plain": "[49478887.0,\n 49478888.0,\n 49478894.0,\n 49478895.0,\n 49478901.0,\n 49478902.0,\n 49478918.0,\n 49478921.0,\n 49478944.0,\n 49478948.0,\n 49478951.0,\n 49478955.0,\n 49478961.0,\n 49478962.0,\n 49478966.0,\n 49478970.0,\n 49478976.0,\n 49478982.0,\n 49478988.0,\n 49478991.0,\n 49478996.0,\n 49478998.0,\n 49478999.0,\n 49479002.0,\n 49479005.0,\n 49479010.0,\n 49479013.0,\n 49479019.0,\n 49479022.0,\n 49479031.0,\n 49479036.0,\n 49479038.0,\n 49479042.0,\n 49479043.0,\n 49479050.0,\n 49479053.0,\n 49479060.0,\n 49479064.0,\n 49479068.0,\n 49479070.0,\n 49479074.0,\n 49479077.0,\n 49479080.0,\n 49479085.0,\n 49479092.0,\n 49479097.0,\n 49479108.0,\n 49479111.0,\n 49479118.0,\n 49479121.0,\n 49479123.0,\n 49479129.0,\n 49479135.0,\n 49479139.0,\n 49479155.0,\n 49479160.0,\n 49479167.0,\n 49479171.0,\n 49479182.0,\n 49479187.0,\n 49479212.0,\n 49479219.0,\n 49479231.0,\n 49479250.0,\n 49479267.0,\n 49479276.0,\n 49479300.0,\n 49479308.0,\n 49479322.0,\n 49479330.0,\n 49479345.0,\n 49479355.0,\n 49479377.0,\n 49479383.0,\n 49479397.0,\n 49479407.0,\n 49492787.0,\n 49492788.0,\n 49492789.0,\n 49492790.0,\n 49492791.0,\n 49492792.0,\n 49492793.0,\n 49492795.0,\n 49492796.0,\n 49492797.0,\n 49492798.0,\n 49492799.0,\n 49492801.0,\n 49492802.0,\n 49492803.0,\n 49492805.0,\n 49492806.0,\n 49492807.0,\n 49492808.0,\n 49492809.0,\n 49492810.0,\n 49492811.0,\n 49492812.0,\n 49492813.0]"
     },
     "execution_count": 10,
     "metadata": {},
     "output_type": "execute_result"
    }
   ],
   "source": [
    "images_4 = sorted(images_4)\n",
    "images_4"
   ],
   "metadata": {
    "collapsed": false,
    "ExecuteTime": {
     "end_time": "2023-11-18T09:25:56.781049Z",
     "start_time": "2023-11-18T09:25:56.779300Z"
    }
   }
  },
  {
   "cell_type": "code",
   "execution_count": 15,
   "outputs": [],
   "source": [
    "time_1 = {}\n",
    "time_4 = {}\n",
    "\n",
    "for f in os.listdir('data/innovaid_hackathon_anima/input'):\n",
    "    df = pd.read_csv(os.path.join('data/innovaid_hackathon_anima/input', f))\n",
    "    l_1 = np.zeros(len(images_1) + 1)\n",
    "    l_4 = np.zeros(len(images_4) + 1)\n",
    "    for img in df['IMAGE'].to_numpy():\n",
    "        if np.isnan(img):\n",
    "            l_1[-1] += 1\n",
    "            l_4[-1] += 1\n",
    "        else:\n",
    "            try:\n",
    "                i_1 = images_1.index(img)\n",
    "                l_1[i_1] += 1\n",
    "            except ValueError:\n",
    "                i_4 = images_4.index(img)\n",
    "                l_4[i_4] += 1\n",
    "\n",
    "    if len(set(l_1)) > len(set(l_4)):\n",
    "        all_info = np.array(l_1) / sum(l_1)\n",
    "        time_1[f] = all_info\n",
    "\n",
    "    else:\n",
    "        all_info = np.array(l_4) / sum(l_4)\n",
    "        time_4[f] = all_info"
   ],
   "metadata": {
    "collapsed": false,
    "ExecuteTime": {
     "end_time": "2023-11-18T09:34:35.447065Z",
     "start_time": "2023-11-18T09:33:45.404244Z"
    }
   }
  },
  {
   "cell_type": "code",
   "execution_count": 18,
   "outputs": [
    {
     "data": {
      "text/plain": "                                0         1         2         3         4   \\\nNIWf76Hey8eftwtH7Mhn.csv  0.012683  0.000000  0.018537  0.007247  0.015749   \nkrJ3q9NcKQ2elEdfUc2b.csv  0.002574  0.019305  0.003539  0.006757  0.015766   \nx4kas0wczT56dyOOT6Qm.csv  0.006249  0.011716  0.006249  0.006054  0.020113   \n8He1aUWtiBw4Ql4pY9AD.csv  0.009967  0.010365  0.008239  0.008239  0.022060   \nP7tbw1M1GKfYePp4lWeq.csv  0.007819  0.012324  0.009807  0.008481  0.019348   \n...                            ...       ...       ...       ...       ...   \nqsiosj3UT5UOD9QooLtw.csv  0.015747  0.004367  0.015879  0.005558  0.019849   \n7oIOU4ydQhKXVlqQnkkO.csv  0.007911  0.003922  0.003043  0.003989  0.013659   \nVRBJWnNH1FLw3SosKEvd.csv  0.004647  0.006697  0.006833  0.007927  0.012437   \nX3jVp2rej5Xf40Ox3xRH.csv  0.010125  0.008734  0.010570  0.011293  0.016244   \nYFT4vvlSEy6uF6NrJgdy.csv  0.004782  0.011690  0.007173  0.011823  0.015675   \n\n                                5         6         7         8         9   \\\nNIWf76Hey8eftwtH7Mhn.csv  0.007526  0.014774  0.009338  0.008780  0.009477   \nkrJ3q9NcKQ2elEdfUc2b.csv  0.000000  0.010618  0.006435  0.000000  0.000000   \nx4kas0wczT56dyOOT6Qm.csv  0.015622  0.007420  0.003320  0.009959  0.015036   \n8He1aUWtiBw4Ql4pY9AD.csv  0.015282  0.011561  0.009568  0.008771  0.009568   \nP7tbw1M1GKfYePp4lWeq.csv  0.007686  0.014047  0.008216  0.011927  0.012192   \n...                            ...       ...       ...       ...       ...   \nqsiosj3UT5UOD9QooLtw.csv  0.015085  0.009395  0.008998  0.007146  0.012968   \n7oIOU4ydQhKXVlqQnkkO.csv  0.006694  0.002569  0.006018  0.013726  0.015079   \nVRBJWnNH1FLw3SosKEvd.csv  0.013120  0.002870  0.006560  0.012573  0.013393   \nX3jVp2rej5Xf40Ox3xRH.csv  0.008122  0.010458  0.009568  0.010458  0.008956   \nYFT4vvlSEy6uF6NrJgdy.csv  0.011955  0.006243  0.007439  0.012620  0.014081   \n\n                          ...        79        80        81        82  \\\nNIWf76Hey8eftwtH7Mhn.csv  ...  0.005993  0.004460  0.001533  0.010453   \nkrJ3q9NcKQ2elEdfUc2b.csv  ...  0.007400  0.013835  0.012227  0.001609   \nx4kas0wczT56dyOOT6Qm.csv  ...  0.004882  0.005858  0.005468  0.008397   \n8He1aUWtiBw4Ql4pY9AD.csv  ...  0.010764  0.014086  0.003588  0.010365   \nP7tbw1M1GKfYePp4lWeq.csv  ...  0.007951  0.007686  0.008614  0.012324   \n...                       ...       ...       ...       ...       ...   \nqsiosj3UT5UOD9QooLtw.csv  ...  0.007146  0.002911  0.007543  0.000000   \n7oIOU4ydQhKXVlqQnkkO.csv  ...  0.005071  0.009669  0.006356  0.011495   \nVRBJWnNH1FLw3SosKEvd.csv  ...  0.005057  0.007107  0.007653  0.004237   \nX3jVp2rej5Xf40Ox3xRH.csv  ...  0.011182  0.010903  0.010291  0.003171   \nYFT4vvlSEy6uF6NrJgdy.csv  ...  0.005978  0.004516  0.004649  0.014878   \n\n                                83        84        85        86        87  \\\nNIWf76Hey8eftwtH7Mhn.csv  0.004460  0.002927  0.000000  0.002787  0.007387   \nkrJ3q9NcKQ2elEdfUc2b.csv  0.016731  0.000000  0.001931  0.000000  0.004826   \nx4kas0wczT56dyOOT6Qm.csv  0.011521  0.005272  0.011716  0.011716  0.008397   \n8He1aUWtiBw4Ql4pY9AD.csv  0.006113  0.006777  0.001860  0.005316  0.008638   \nP7tbw1M1GKfYePp4lWeq.csv  0.007686  0.010204  0.005963  0.006096  0.013252   \n...                            ...       ...       ...       ...       ...   \nqsiosj3UT5UOD9QooLtw.csv  0.000000  0.000000  0.000000  0.014424  0.001191   \n7oIOU4ydQhKXVlqQnkkO.csv  0.008926  0.010886  0.004530  0.010481  0.005342   \nVRBJWnNH1FLw3SosKEvd.csv  0.006697  0.009567  0.004647  0.000547  0.005603   \nX3jVp2rej5Xf40Ox3xRH.csv  0.016967  0.010792  0.011404  0.009624  0.008233   \nYFT4vvlSEy6uF6NrJgdy.csv  0.005181  0.010893  0.004782  0.003454  0.013815   \n\n                                88  \nNIWf76Hey8eftwtH7Mhn.csv  0.295331  \nkrJ3q9NcKQ2elEdfUc2b.csv  0.371943  \nx4kas0wczT56dyOOT6Qm.csv  0.028901  \n8He1aUWtiBw4Ql4pY9AD.csv  0.082791  \nP7tbw1M1GKfYePp4lWeq.csv  0.011662  \n...                            ...  \nqsiosj3UT5UOD9QooLtw.csv  0.489480  \n7oIOU4ydQhKXVlqQnkkO.csv  0.159037  \nVRBJWnNH1FLw3SosKEvd.csv  0.362444  \nX3jVp2rej5Xf40Ox3xRH.csv  0.046395  \nYFT4vvlSEy6uF6NrJgdy.csv  0.037327  \n\n[1648 rows x 89 columns]",
      "text/html": "<div>\n<style scoped>\n    .dataframe tbody tr th:only-of-type {\n        vertical-align: middle;\n    }\n\n    .dataframe tbody tr th {\n        vertical-align: top;\n    }\n\n    .dataframe thead th {\n        text-align: right;\n    }\n</style>\n<table border=\"1\" class=\"dataframe\">\n  <thead>\n    <tr style=\"text-align: right;\">\n      <th></th>\n      <th>0</th>\n      <th>1</th>\n      <th>2</th>\n      <th>3</th>\n      <th>4</th>\n      <th>5</th>\n      <th>6</th>\n      <th>7</th>\n      <th>8</th>\n      <th>9</th>\n      <th>...</th>\n      <th>79</th>\n      <th>80</th>\n      <th>81</th>\n      <th>82</th>\n      <th>83</th>\n      <th>84</th>\n      <th>85</th>\n      <th>86</th>\n      <th>87</th>\n      <th>88</th>\n    </tr>\n  </thead>\n  <tbody>\n    <tr>\n      <th>NIWf76Hey8eftwtH7Mhn.csv</th>\n      <td>0.012683</td>\n      <td>0.000000</td>\n      <td>0.018537</td>\n      <td>0.007247</td>\n      <td>0.015749</td>\n      <td>0.007526</td>\n      <td>0.014774</td>\n      <td>0.009338</td>\n      <td>0.008780</td>\n      <td>0.009477</td>\n      <td>...</td>\n      <td>0.005993</td>\n      <td>0.004460</td>\n      <td>0.001533</td>\n      <td>0.010453</td>\n      <td>0.004460</td>\n      <td>0.002927</td>\n      <td>0.000000</td>\n      <td>0.002787</td>\n      <td>0.007387</td>\n      <td>0.295331</td>\n    </tr>\n    <tr>\n      <th>krJ3q9NcKQ2elEdfUc2b.csv</th>\n      <td>0.002574</td>\n      <td>0.019305</td>\n      <td>0.003539</td>\n      <td>0.006757</td>\n      <td>0.015766</td>\n      <td>0.000000</td>\n      <td>0.010618</td>\n      <td>0.006435</td>\n      <td>0.000000</td>\n      <td>0.000000</td>\n      <td>...</td>\n      <td>0.007400</td>\n      <td>0.013835</td>\n      <td>0.012227</td>\n      <td>0.001609</td>\n      <td>0.016731</td>\n      <td>0.000000</td>\n      <td>0.001931</td>\n      <td>0.000000</td>\n      <td>0.004826</td>\n      <td>0.371943</td>\n    </tr>\n    <tr>\n      <th>x4kas0wczT56dyOOT6Qm.csv</th>\n      <td>0.006249</td>\n      <td>0.011716</td>\n      <td>0.006249</td>\n      <td>0.006054</td>\n      <td>0.020113</td>\n      <td>0.015622</td>\n      <td>0.007420</td>\n      <td>0.003320</td>\n      <td>0.009959</td>\n      <td>0.015036</td>\n      <td>...</td>\n      <td>0.004882</td>\n      <td>0.005858</td>\n      <td>0.005468</td>\n      <td>0.008397</td>\n      <td>0.011521</td>\n      <td>0.005272</td>\n      <td>0.011716</td>\n      <td>0.011716</td>\n      <td>0.008397</td>\n      <td>0.028901</td>\n    </tr>\n    <tr>\n      <th>8He1aUWtiBw4Ql4pY9AD.csv</th>\n      <td>0.009967</td>\n      <td>0.010365</td>\n      <td>0.008239</td>\n      <td>0.008239</td>\n      <td>0.022060</td>\n      <td>0.015282</td>\n      <td>0.011561</td>\n      <td>0.009568</td>\n      <td>0.008771</td>\n      <td>0.009568</td>\n      <td>...</td>\n      <td>0.010764</td>\n      <td>0.014086</td>\n      <td>0.003588</td>\n      <td>0.010365</td>\n      <td>0.006113</td>\n      <td>0.006777</td>\n      <td>0.001860</td>\n      <td>0.005316</td>\n      <td>0.008638</td>\n      <td>0.082791</td>\n    </tr>\n    <tr>\n      <th>P7tbw1M1GKfYePp4lWeq.csv</th>\n      <td>0.007819</td>\n      <td>0.012324</td>\n      <td>0.009807</td>\n      <td>0.008481</td>\n      <td>0.019348</td>\n      <td>0.007686</td>\n      <td>0.014047</td>\n      <td>0.008216</td>\n      <td>0.011927</td>\n      <td>0.012192</td>\n      <td>...</td>\n      <td>0.007951</td>\n      <td>0.007686</td>\n      <td>0.008614</td>\n      <td>0.012324</td>\n      <td>0.007686</td>\n      <td>0.010204</td>\n      <td>0.005963</td>\n      <td>0.006096</td>\n      <td>0.013252</td>\n      <td>0.011662</td>\n    </tr>\n    <tr>\n      <th>...</th>\n      <td>...</td>\n      <td>...</td>\n      <td>...</td>\n      <td>...</td>\n      <td>...</td>\n      <td>...</td>\n      <td>...</td>\n      <td>...</td>\n      <td>...</td>\n      <td>...</td>\n      <td>...</td>\n      <td>...</td>\n      <td>...</td>\n      <td>...</td>\n      <td>...</td>\n      <td>...</td>\n      <td>...</td>\n      <td>...</td>\n      <td>...</td>\n      <td>...</td>\n      <td>...</td>\n    </tr>\n    <tr>\n      <th>qsiosj3UT5UOD9QooLtw.csv</th>\n      <td>0.015747</td>\n      <td>0.004367</td>\n      <td>0.015879</td>\n      <td>0.005558</td>\n      <td>0.019849</td>\n      <td>0.015085</td>\n      <td>0.009395</td>\n      <td>0.008998</td>\n      <td>0.007146</td>\n      <td>0.012968</td>\n      <td>...</td>\n      <td>0.007146</td>\n      <td>0.002911</td>\n      <td>0.007543</td>\n      <td>0.000000</td>\n      <td>0.000000</td>\n      <td>0.000000</td>\n      <td>0.000000</td>\n      <td>0.014424</td>\n      <td>0.001191</td>\n      <td>0.489480</td>\n    </tr>\n    <tr>\n      <th>7oIOU4ydQhKXVlqQnkkO.csv</th>\n      <td>0.007911</td>\n      <td>0.003922</td>\n      <td>0.003043</td>\n      <td>0.003989</td>\n      <td>0.013659</td>\n      <td>0.006694</td>\n      <td>0.002569</td>\n      <td>0.006018</td>\n      <td>0.013726</td>\n      <td>0.015079</td>\n      <td>...</td>\n      <td>0.005071</td>\n      <td>0.009669</td>\n      <td>0.006356</td>\n      <td>0.011495</td>\n      <td>0.008926</td>\n      <td>0.010886</td>\n      <td>0.004530</td>\n      <td>0.010481</td>\n      <td>0.005342</td>\n      <td>0.159037</td>\n    </tr>\n    <tr>\n      <th>VRBJWnNH1FLw3SosKEvd.csv</th>\n      <td>0.004647</td>\n      <td>0.006697</td>\n      <td>0.006833</td>\n      <td>0.007927</td>\n      <td>0.012437</td>\n      <td>0.013120</td>\n      <td>0.002870</td>\n      <td>0.006560</td>\n      <td>0.012573</td>\n      <td>0.013393</td>\n      <td>...</td>\n      <td>0.005057</td>\n      <td>0.007107</td>\n      <td>0.007653</td>\n      <td>0.004237</td>\n      <td>0.006697</td>\n      <td>0.009567</td>\n      <td>0.004647</td>\n      <td>0.000547</td>\n      <td>0.005603</td>\n      <td>0.362444</td>\n    </tr>\n    <tr>\n      <th>X3jVp2rej5Xf40Ox3xRH.csv</th>\n      <td>0.010125</td>\n      <td>0.008734</td>\n      <td>0.010570</td>\n      <td>0.011293</td>\n      <td>0.016244</td>\n      <td>0.008122</td>\n      <td>0.010458</td>\n      <td>0.009568</td>\n      <td>0.010458</td>\n      <td>0.008956</td>\n      <td>...</td>\n      <td>0.011182</td>\n      <td>0.010903</td>\n      <td>0.010291</td>\n      <td>0.003171</td>\n      <td>0.016967</td>\n      <td>0.010792</td>\n      <td>0.011404</td>\n      <td>0.009624</td>\n      <td>0.008233</td>\n      <td>0.046395</td>\n    </tr>\n    <tr>\n      <th>YFT4vvlSEy6uF6NrJgdy.csv</th>\n      <td>0.004782</td>\n      <td>0.011690</td>\n      <td>0.007173</td>\n      <td>0.011823</td>\n      <td>0.015675</td>\n      <td>0.011955</td>\n      <td>0.006243</td>\n      <td>0.007439</td>\n      <td>0.012620</td>\n      <td>0.014081</td>\n      <td>...</td>\n      <td>0.005978</td>\n      <td>0.004516</td>\n      <td>0.004649</td>\n      <td>0.014878</td>\n      <td>0.005181</td>\n      <td>0.010893</td>\n      <td>0.004782</td>\n      <td>0.003454</td>\n      <td>0.013815</td>\n      <td>0.037327</td>\n    </tr>\n  </tbody>\n</table>\n<p>1648 rows × 89 columns</p>\n</div>"
     },
     "execution_count": 18,
     "metadata": {},
     "output_type": "execute_result"
    }
   ],
   "source": [
    "df_time_1 = pd.DataFrame.from_dict(time_1, orient='index')\n",
    "df_time_1.to_csv('data/innovaid_hackathon_anima/total_gaze_imgs_1.csv')\n",
    "df_time_1"
   ],
   "metadata": {
    "collapsed": false,
    "ExecuteTime": {
     "end_time": "2023-11-18T09:35:20.199869Z",
     "start_time": "2023-11-18T09:35:20.029401Z"
    }
   }
  },
  {
   "cell_type": "code",
   "execution_count": 19,
   "outputs": [
    {
     "data": {
      "text/plain": "                               0         1         2         3         4    \\\n5wkYPhQUJDJ5wj1V2Nk4.csv  0.000268  0.001539  0.008433  0.002878  0.004685   \nykb8Kau47lOpf94ogXqW.csv  0.016426  0.000000  0.019569  0.000000  0.021711   \n9kaeHX0tKCwDx3YTqtKa.csv  0.002591  0.000000  0.000000  0.000000  0.000000   \nUEGF9hSh8QZt8KSYiXWp.csv  0.012531  0.001847  0.017016  0.000000  0.009102   \n6xXlQ54eY3eQmQK85PWZ.csv  0.006188  0.004273  0.007072  0.004126  0.003831   \n...                            ...       ...       ...       ...       ...   \nFu99kvYLObFdDEolQPJf.csv  0.000000  0.008376  0.010840  0.003695  0.011086   \nI8EwzZrIiWLe5SP2MLGv.csv  0.009490  0.002052  0.013080  0.001539  0.010259   \nFC07oWVDi4EJz1NPOTRw.csv  0.008833  0.000000  0.008306  0.004351  0.003428   \nPf4Ae6IOVapo0dh6lNZX.csv  0.006417  0.008289  0.009091  0.006016  0.004813   \nsX1f0IigLUCRZ7QZBF0h.csv  0.000392  0.000392  0.000261  0.001960  0.000131   \n\n                               5         6         7         8         9    \\\n5wkYPhQUJDJ5wj1V2Nk4.csv  0.004283  0.002142  0.003212  0.001405  0.003212   \nykb8Kau47lOpf94ogXqW.csv  0.000000  0.021711  0.000000  0.020711  0.000000   \n9kaeHX0tKCwDx3YTqtKa.csv  0.000000  0.000000  0.000000  0.000797  0.000000   \nUEGF9hSh8QZt8KSYiXWp.csv  0.002638  0.012268  0.001715  0.013323  0.000000   \n6xXlQ54eY3eQmQK85PWZ.csv  0.008840  0.004273  0.008693  0.006778  0.003536   \n...                            ...       ...       ...       ...       ...   \nFu99kvYLObFdDEolQPJf.csv  0.005174  0.004927  0.006898  0.004927  0.000000   \nI8EwzZrIiWLe5SP2MLGv.csv  0.003847  0.004873  0.005386  0.004360  0.004873   \nFC07oWVDi4EJz1NPOTRw.csv  0.001450  0.005801  0.004878  0.006196  0.007647   \nPf4Ae6IOVapo0dh6lNZX.csv  0.008824  0.010428  0.005749  0.010160  0.003610   \nsX1f0IigLUCRZ7QZBF0h.csv  0.005097  0.000000  0.002483  0.002875  0.004966   \n\n                          ...       91        92        93        94   \\\n5wkYPhQUJDJ5wj1V2Nk4.csv  ...  0.000000  0.010708  0.000000  0.014322   \nykb8Kau47lOpf94ogXqW.csv  ...  0.000000  0.018140  0.000000  0.020140   \n9kaeHX0tKCwDx3YTqtKa.csv  ...  0.001395  0.005780  0.000797  0.001196   \nUEGF9hSh8QZt8KSYiXWp.csv  ...  0.000000  0.016357  0.000000  0.011212   \n6xXlQ54eY3eQmQK85PWZ.csv  ...  0.006483  0.005157  0.005894  0.005452   \n...                       ...       ...       ...       ...       ...   \nFu99kvYLObFdDEolQPJf.csv  ...  0.000985  0.000985  0.002710  0.000000   \nI8EwzZrIiWLe5SP2MLGv.csv  ...  0.005130  0.003334  0.005642  0.001282   \nFC07oWVDi4EJz1NPOTRw.csv  ...  0.000132  0.007779  0.000000  0.005010   \nPf4Ae6IOVapo0dh6lNZX.csv  ...  0.004278  0.008155  0.003342  0.010428   \nsX1f0IigLUCRZ7QZBF0h.csv  ...  0.001045  0.000392  0.003398  0.000392   \n\n                               95        96        97        98        99   \\\n5wkYPhQUJDJ5wj1V2Nk4.csv  0.000000  0.012180  0.000000  0.013050  0.000000   \nykb8Kau47lOpf94ogXqW.csv  0.000000  0.010713  0.000000  0.008856  0.000000   \n9kaeHX0tKCwDx3YTqtKa.csv  0.002990  0.001794  0.004983  0.002392  0.001196   \nUEGF9hSh8QZt8KSYiXWp.csv  0.000791  0.014510  0.000264  0.017544  0.000000   \n6xXlQ54eY3eQmQK85PWZ.csv  0.005746  0.003389  0.003389  0.005010  0.006925   \n...                            ...       ...       ...       ...       ...   \nFu99kvYLObFdDEolQPJf.csv  0.000000  0.001232  0.000493  0.003449  0.000000   \nI8EwzZrIiWLe5SP2MLGv.csv  0.010003  0.002052  0.005899  0.005130  0.002821   \nFC07oWVDi4EJz1NPOTRw.csv  0.000264  0.002900  0.000000  0.005274  0.000000   \nPf4Ae6IOVapo0dh6lNZX.csv  0.006283  0.009225  0.005348  0.001471  0.015241   \nsX1f0IigLUCRZ7QZBF0h.csv  0.001176  0.000392  0.005097  0.000000  0.001830   \n\n                               100  \n5wkYPhQUJDJ5wj1V2Nk4.csv  0.566055  \nykb8Kau47lOpf94ogXqW.csv  0.222254  \n9kaeHX0tKCwDx3YTqtKa.csv  0.867251  \nUEGF9hSh8QZt8KSYiXWp.csv  0.502176  \n6xXlQ54eY3eQmQK85PWZ.csv  0.528363  \n...                            ...  \nFu99kvYLObFdDEolQPJf.csv  0.697709  \nI8EwzZrIiWLe5SP2MLGv.csv  0.454219  \nFC07oWVDi4EJz1NPOTRw.csv  0.708372  \nPf4Ae6IOVapo0dh6lNZX.csv  0.460695  \nsX1f0IigLUCRZ7QZBF0h.csv  0.645452  \n\n[1454 rows x 101 columns]",
      "text/html": "<div>\n<style scoped>\n    .dataframe tbody tr th:only-of-type {\n        vertical-align: middle;\n    }\n\n    .dataframe tbody tr th {\n        vertical-align: top;\n    }\n\n    .dataframe thead th {\n        text-align: right;\n    }\n</style>\n<table border=\"1\" class=\"dataframe\">\n  <thead>\n    <tr style=\"text-align: right;\">\n      <th></th>\n      <th>0</th>\n      <th>1</th>\n      <th>2</th>\n      <th>3</th>\n      <th>4</th>\n      <th>5</th>\n      <th>6</th>\n      <th>7</th>\n      <th>8</th>\n      <th>9</th>\n      <th>...</th>\n      <th>91</th>\n      <th>92</th>\n      <th>93</th>\n      <th>94</th>\n      <th>95</th>\n      <th>96</th>\n      <th>97</th>\n      <th>98</th>\n      <th>99</th>\n      <th>100</th>\n    </tr>\n  </thead>\n  <tbody>\n    <tr>\n      <th>5wkYPhQUJDJ5wj1V2Nk4.csv</th>\n      <td>0.000268</td>\n      <td>0.001539</td>\n      <td>0.008433</td>\n      <td>0.002878</td>\n      <td>0.004685</td>\n      <td>0.004283</td>\n      <td>0.002142</td>\n      <td>0.003212</td>\n      <td>0.001405</td>\n      <td>0.003212</td>\n      <td>...</td>\n      <td>0.000000</td>\n      <td>0.010708</td>\n      <td>0.000000</td>\n      <td>0.014322</td>\n      <td>0.000000</td>\n      <td>0.012180</td>\n      <td>0.000000</td>\n      <td>0.013050</td>\n      <td>0.000000</td>\n      <td>0.566055</td>\n    </tr>\n    <tr>\n      <th>ykb8Kau47lOpf94ogXqW.csv</th>\n      <td>0.016426</td>\n      <td>0.000000</td>\n      <td>0.019569</td>\n      <td>0.000000</td>\n      <td>0.021711</td>\n      <td>0.000000</td>\n      <td>0.021711</td>\n      <td>0.000000</td>\n      <td>0.020711</td>\n      <td>0.000000</td>\n      <td>...</td>\n      <td>0.000000</td>\n      <td>0.018140</td>\n      <td>0.000000</td>\n      <td>0.020140</td>\n      <td>0.000000</td>\n      <td>0.010713</td>\n      <td>0.000000</td>\n      <td>0.008856</td>\n      <td>0.000000</td>\n      <td>0.222254</td>\n    </tr>\n    <tr>\n      <th>9kaeHX0tKCwDx3YTqtKa.csv</th>\n      <td>0.002591</td>\n      <td>0.000000</td>\n      <td>0.000000</td>\n      <td>0.000000</td>\n      <td>0.000000</td>\n      <td>0.000000</td>\n      <td>0.000000</td>\n      <td>0.000000</td>\n      <td>0.000797</td>\n      <td>0.000000</td>\n      <td>...</td>\n      <td>0.001395</td>\n      <td>0.005780</td>\n      <td>0.000797</td>\n      <td>0.001196</td>\n      <td>0.002990</td>\n      <td>0.001794</td>\n      <td>0.004983</td>\n      <td>0.002392</td>\n      <td>0.001196</td>\n      <td>0.867251</td>\n    </tr>\n    <tr>\n      <th>UEGF9hSh8QZt8KSYiXWp.csv</th>\n      <td>0.012531</td>\n      <td>0.001847</td>\n      <td>0.017016</td>\n      <td>0.000000</td>\n      <td>0.009102</td>\n      <td>0.002638</td>\n      <td>0.012268</td>\n      <td>0.001715</td>\n      <td>0.013323</td>\n      <td>0.000000</td>\n      <td>...</td>\n      <td>0.000000</td>\n      <td>0.016357</td>\n      <td>0.000000</td>\n      <td>0.011212</td>\n      <td>0.000791</td>\n      <td>0.014510</td>\n      <td>0.000264</td>\n      <td>0.017544</td>\n      <td>0.000000</td>\n      <td>0.502176</td>\n    </tr>\n    <tr>\n      <th>6xXlQ54eY3eQmQK85PWZ.csv</th>\n      <td>0.006188</td>\n      <td>0.004273</td>\n      <td>0.007072</td>\n      <td>0.004126</td>\n      <td>0.003831</td>\n      <td>0.008840</td>\n      <td>0.004273</td>\n      <td>0.008693</td>\n      <td>0.006778</td>\n      <td>0.003536</td>\n      <td>...</td>\n      <td>0.006483</td>\n      <td>0.005157</td>\n      <td>0.005894</td>\n      <td>0.005452</td>\n      <td>0.005746</td>\n      <td>0.003389</td>\n      <td>0.003389</td>\n      <td>0.005010</td>\n      <td>0.006925</td>\n      <td>0.528363</td>\n    </tr>\n    <tr>\n      <th>...</th>\n      <td>...</td>\n      <td>...</td>\n      <td>...</td>\n      <td>...</td>\n      <td>...</td>\n      <td>...</td>\n      <td>...</td>\n      <td>...</td>\n      <td>...</td>\n      <td>...</td>\n      <td>...</td>\n      <td>...</td>\n      <td>...</td>\n      <td>...</td>\n      <td>...</td>\n      <td>...</td>\n      <td>...</td>\n      <td>...</td>\n      <td>...</td>\n      <td>...</td>\n      <td>...</td>\n    </tr>\n    <tr>\n      <th>Fu99kvYLObFdDEolQPJf.csv</th>\n      <td>0.000000</td>\n      <td>0.008376</td>\n      <td>0.010840</td>\n      <td>0.003695</td>\n      <td>0.011086</td>\n      <td>0.005174</td>\n      <td>0.004927</td>\n      <td>0.006898</td>\n      <td>0.004927</td>\n      <td>0.000000</td>\n      <td>...</td>\n      <td>0.000985</td>\n      <td>0.000985</td>\n      <td>0.002710</td>\n      <td>0.000000</td>\n      <td>0.000000</td>\n      <td>0.001232</td>\n      <td>0.000493</td>\n      <td>0.003449</td>\n      <td>0.000000</td>\n      <td>0.697709</td>\n    </tr>\n    <tr>\n      <th>I8EwzZrIiWLe5SP2MLGv.csv</th>\n      <td>0.009490</td>\n      <td>0.002052</td>\n      <td>0.013080</td>\n      <td>0.001539</td>\n      <td>0.010259</td>\n      <td>0.003847</td>\n      <td>0.004873</td>\n      <td>0.005386</td>\n      <td>0.004360</td>\n      <td>0.004873</td>\n      <td>...</td>\n      <td>0.005130</td>\n      <td>0.003334</td>\n      <td>0.005642</td>\n      <td>0.001282</td>\n      <td>0.010003</td>\n      <td>0.002052</td>\n      <td>0.005899</td>\n      <td>0.005130</td>\n      <td>0.002821</td>\n      <td>0.454219</td>\n    </tr>\n    <tr>\n      <th>FC07oWVDi4EJz1NPOTRw.csv</th>\n      <td>0.008833</td>\n      <td>0.000000</td>\n      <td>0.008306</td>\n      <td>0.004351</td>\n      <td>0.003428</td>\n      <td>0.001450</td>\n      <td>0.005801</td>\n      <td>0.004878</td>\n      <td>0.006196</td>\n      <td>0.007647</td>\n      <td>...</td>\n      <td>0.000132</td>\n      <td>0.007779</td>\n      <td>0.000000</td>\n      <td>0.005010</td>\n      <td>0.000264</td>\n      <td>0.002900</td>\n      <td>0.000000</td>\n      <td>0.005274</td>\n      <td>0.000000</td>\n      <td>0.708372</td>\n    </tr>\n    <tr>\n      <th>Pf4Ae6IOVapo0dh6lNZX.csv</th>\n      <td>0.006417</td>\n      <td>0.008289</td>\n      <td>0.009091</td>\n      <td>0.006016</td>\n      <td>0.004813</td>\n      <td>0.008824</td>\n      <td>0.010428</td>\n      <td>0.005749</td>\n      <td>0.010160</td>\n      <td>0.003610</td>\n      <td>...</td>\n      <td>0.004278</td>\n      <td>0.008155</td>\n      <td>0.003342</td>\n      <td>0.010428</td>\n      <td>0.006283</td>\n      <td>0.009225</td>\n      <td>0.005348</td>\n      <td>0.001471</td>\n      <td>0.015241</td>\n      <td>0.460695</td>\n    </tr>\n    <tr>\n      <th>sX1f0IigLUCRZ7QZBF0h.csv</th>\n      <td>0.000392</td>\n      <td>0.000392</td>\n      <td>0.000261</td>\n      <td>0.001960</td>\n      <td>0.000131</td>\n      <td>0.005097</td>\n      <td>0.000000</td>\n      <td>0.002483</td>\n      <td>0.002875</td>\n      <td>0.004966</td>\n      <td>...</td>\n      <td>0.001045</td>\n      <td>0.000392</td>\n      <td>0.003398</td>\n      <td>0.000392</td>\n      <td>0.001176</td>\n      <td>0.000392</td>\n      <td>0.005097</td>\n      <td>0.000000</td>\n      <td>0.001830</td>\n      <td>0.645452</td>\n    </tr>\n  </tbody>\n</table>\n<p>1454 rows × 101 columns</p>\n</div>"
     },
     "execution_count": 19,
     "metadata": {},
     "output_type": "execute_result"
    }
   ],
   "source": [
    "df_time_4 = pd.DataFrame.from_dict(time_4, orient='index')\n",
    "df_time_4.to_csv('data/innovaid_hackathon_anima/total_gaze_imgs_4.csv')\n",
    "df_time_4"
   ],
   "metadata": {
    "collapsed": false,
    "ExecuteTime": {
     "end_time": "2023-11-18T09:35:21.710952Z",
     "start_time": "2023-11-18T09:35:21.599158Z"
    }
   }
  }
 ],
 "metadata": {
  "kernelspec": {
   "display_name": "Python 3",
   "language": "python",
   "name": "python3"
  },
  "language_info": {
   "codemirror_mode": {
    "name": "ipython",
    "version": 2
   },
   "file_extension": ".py",
   "mimetype": "text/x-python",
   "name": "python",
   "nbconvert_exporter": "python",
   "pygments_lexer": "ipython2",
   "version": "2.7.6"
  }
 },
 "nbformat": 4,
 "nbformat_minor": 0
}
