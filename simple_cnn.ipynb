{
 "cells": [
  {
   "cell_type": "code",
   "execution_count": 245,
   "outputs": [],
   "source": [
    "import pandas as pd\n",
    "from sklearn.neural_network import MLPClassifier\n",
    "import glob\n",
    "import numpy as np\n",
    "import ast"
   ],
   "metadata": {
    "collapsed": false,
    "ExecuteTime": {
     "end_time": "2023-11-17T20:00:15.557648Z",
     "start_time": "2023-11-17T20:00:15.553535Z"
    }
   }
  },
  {
   "cell_type": "code",
   "execution_count": 246,
   "outputs": [],
   "source": [
    "import os\n",
    "per_scene = 30\n",
    "\n",
    "df_labels = pd.read_csv('data/innovaid_hackathon_anima/output_classes.csv')\n",
    "\n",
    "X = []\n",
    "y = []\n",
    "files = glob.glob(f\"data/innovaid_hackathon_anima/input_coords_{per_scene}/*.csv\")\n",
    "for file in files:\n",
    "    df = pd.read_csv(file)\n",
    "    if df.shape[0] != 50 * per_scene:\n",
    "        continue\n",
    "    df.fillna(0, inplace=True)\n",
    "    df.drop(\"SCENE_INDEX\", inplace=True, axis=1)\n",
    "    X.append(df.to_numpy().flatten())\n",
    "    y.append(list(df_labels[df_labels['sid'] == file.split(\"/\")[-1].split('.')[0]]['depression_severity'])[0])\n"
   ],
   "metadata": {
    "collapsed": false,
    "ExecuteTime": {
     "end_time": "2023-11-17T20:00:20.264339Z",
     "start_time": "2023-11-17T20:00:15.558509Z"
    }
   }
  },
  {
   "cell_type": "code",
   "execution_count": 247,
   "outputs": [
    {
     "data": {
      "text/plain": "(2963, 2963)"
     },
     "execution_count": 247,
     "metadata": {},
     "output_type": "execute_result"
    }
   ],
   "source": [
    "len(X), len(y)"
   ],
   "metadata": {
    "collapsed": false,
    "ExecuteTime": {
     "end_time": "2023-11-17T20:00:20.266867Z",
     "start_time": "2023-11-17T20:00:20.264580Z"
    }
   }
  },
  {
   "cell_type": "code",
   "execution_count": 248,
   "outputs": [
    {
     "data": {
      "text/plain": "6000"
     },
     "execution_count": 248,
     "metadata": {},
     "output_type": "execute_result"
    }
   ],
   "source": [
    "len(X[0])"
   ],
   "metadata": {
    "collapsed": false,
    "ExecuteTime": {
     "end_time": "2023-11-17T20:00:20.269176Z",
     "start_time": "2023-11-17T20:00:20.267412Z"
    }
   }
  },
  {
   "cell_type": "code",
   "execution_count": 249,
   "outputs": [],
   "source": [
    "accuracy_history = []"
   ],
   "metadata": {
    "collapsed": false,
    "ExecuteTime": {
     "end_time": "2023-11-17T20:00:20.272725Z",
     "start_time": "2023-11-17T20:00:20.271272Z"
    }
   }
  },
  {
   "cell_type": "code",
   "execution_count": 250,
   "outputs": [
    {
     "name": "stdout",
     "output_type": "stream",
     "text": [
      "Epoch [1/10], Loss: 1.6245, Test accuracy: 0.2597\n",
      "Epoch [2/10], Loss: 1.6237, Test accuracy: 0.2614\n",
      "Epoch [3/10], Loss: 1.6226, Test accuracy: 0.2597\n",
      "Epoch [4/10], Loss: 1.6214, Test accuracy: 0.2580\n",
      "Epoch [5/10], Loss: 1.6203, Test accuracy: 0.2766\n",
      "Epoch [6/10], Loss: 1.6192, Test accuracy: 0.2766\n",
      "Epoch [7/10], Loss: 1.6173, Test accuracy: 0.3137\n",
      "Epoch [8/10], Loss: 1.6167, Test accuracy: 0.3204\n",
      "Epoch [9/10], Loss: 1.6155, Test accuracy: 0.3153\n",
      "Epoch [10/10], Loss: 1.6133, Test accuracy: 0.3170\n",
      "Test Accuracy (More Complex Model): 0.31703204047217537\n"
     ]
    }
   ],
   "source": [
    "import torch\n",
    "import torch.nn as nn\n",
    "import torch.nn.functional as F\n",
    "import torch.optim as optim\n",
    "from torch.utils.data import TensorDataset, DataLoader\n",
    "from sklearn.model_selection import train_test_split\n",
    "from sklearn.metrics import accuracy_score\n",
    "\n",
    "# Assuming X and y are your feature matrix and labels\n",
    "# You can use your original data or load it as needed\n",
    "# X, y = ...\n",
    "\n",
    "# Convert NumPy arrays to PyTorch tensors\n",
    "X_tensor = torch.FloatTensor(X).unsqueeze(1)  # Add a channel dimension\n",
    "y_tensor = torch.LongTensor(y)  # Use LongTensor for integer labels\n",
    "\n",
    "# Split the data into training and testing sets\n",
    "X_train, X_test, y_train, y_test = train_test_split(X_tensor, y_tensor, test_size=0.2, random_state=42)\n",
    "\n",
    "# Define a more complex 1D CNN model for 5-class classification\n",
    "class ComplexCNN(nn.Module):\n",
    "    def __init__(self, num_classes=5):  # Adjusted for 5 classes\n",
    "        super(ComplexCNN, self).__init__()\n",
    "        self.conv1 = nn.Conv1d(1, 64, kernel_size=5, stride=2)\n",
    "        self.conv2 = nn.Conv1d(64, 128, kernel_size=3, stride=2)\n",
    "        self.pool = nn.MaxPool1d(2)\n",
    "        self.flatten = nn.Flatten()\n",
    "\n",
    "        # Calculate the size of the input to the first linear layer\n",
    "        self.fc1_input_size = 47872\n",
    "\n",
    "        self.fc1 = nn.Linear(self.fc1_input_size, 256)\n",
    "        self.fc2 = nn.Linear(256, 128)\n",
    "        self.fc3 = nn.Linear(128, num_classes)  # Adjusted for 5 classes\n",
    "        self.dropout = nn.Dropout(0.5)\n",
    "        self.softmax = nn.Softmax(dim=1)  # Softmax for multi-class classification\n",
    "\n",
    "    def forward(self, x):\n",
    "        x = self.pool(F.relu(self.conv1(x)))\n",
    "        x = self.pool(F.relu(self.conv2(x)))\n",
    "        x = self.flatten(x)\n",
    "        x = F.relu(self.fc1(x))\n",
    "        x = self.dropout(x)\n",
    "        x = F.relu(self.fc2(x))\n",
    "        x = self.dropout(x)\n",
    "        x = self.softmax(self.fc3(x))\n",
    "        return x\n",
    "\n",
    "# Instantiate the more complex model, cross-entropy loss function, and optimizer\n",
    "model_complex = ComplexCNN()\n",
    "criterion_complex = nn.CrossEntropyLoss()  # Cross-entropy loss for multi-class classification\n",
    "optimizer_complex = optim.SGD(model_complex.parameters(), lr=0.001)\n",
    "\n",
    "# Train the more complex model\n",
    "num_epochs = 10\n",
    "batch_size = 32\n",
    "\n",
    "for epoch in range(num_epochs):\n",
    "    model_complex.train()\n",
    "    total_loss = 0\n",
    "\n",
    "    for i in range(0, len(X_train), batch_size):\n",
    "        inputs = X_train[i:i+batch_size]\n",
    "        labels = y_train[i:i+batch_size]\n",
    "\n",
    "        optimizer_complex.zero_grad()\n",
    "        outputs = model_complex(inputs)\n",
    "        loss = criterion_complex(outputs, labels)\n",
    "        loss.backward()\n",
    "        optimizer_complex.step()\n",
    "\n",
    "        total_loss += loss.item()\n",
    "\n",
    "    average_loss = total_loss / (len(X_train) / batch_size)\n",
    "\n",
    "    with torch.no_grad():\n",
    "        model_complex.eval()\n",
    "        y_pred_prob_complex = model_complex(X_test)\n",
    "        _, y_pred_complex = torch.max(y_pred_prob_complex, 1)\n",
    "\n",
    "    accuracy_complex = accuracy_score(y_test.numpy(), y_pred_complex.numpy())\n",
    "\n",
    "    print(f\"Epoch [{epoch + 1}/{num_epochs}], Loss: {average_loss:.4f}, Test accuracy: {accuracy_complex:.4f}\")\n",
    "\n",
    "    accuracy_history.append(accuracy_complex)\n",
    "\n",
    "# Evaluate the more complex model on the test set\n",
    "with torch.no_grad():\n",
    "    model_complex.eval()\n",
    "    y_pred_prob_complex = model_complex(X_test)\n",
    "    _, y_pred_complex = torch.max(y_pred_prob_complex, 1)\n",
    "\n",
    "# Calculate accuracy for the more complex model\n",
    "accuracy_complex = accuracy_score(y_test.numpy(), y_pred_complex.numpy())\n",
    "print(f\"Test Accuracy (More Complex Model): {accuracy_complex}\")\n"
   ],
   "metadata": {
    "collapsed": false,
    "ExecuteTime": {
     "end_time": "2023-11-17T20:01:27.075440Z",
     "start_time": "2023-11-17T20:00:21.513796Z"
    }
   }
  },
  {
   "cell_type": "code",
   "execution_count": 251,
   "outputs": [
    {
     "data": {
      "text/plain": "[<matplotlib.lines.Line2D at 0x2cd1c6260>]"
     },
     "execution_count": 251,
     "metadata": {},
     "output_type": "execute_result"
    },
    {
     "data": {
      "text/plain": "<Figure size 640x480 with 1 Axes>",
      "image/png": "[encoded data removed]"
     },
     "metadata": {},
     "output_type": "display_data"
    }
   ],
   "source": [
    "import matplotlib.pyplot as plt\n",
    "\n",
    "plt.plot(accuracy_history)"
   ],
   "metadata": {
    "collapsed": false,
    "ExecuteTime": {
     "end_time": "2023-11-17T20:01:27.149653Z",
     "start_time": "2023-11-17T20:01:27.080089Z"
    }
   }
  }
 ],
 "metadata": {
  "kernelspec": {
   "display_name": "Python 3",
   "language": "python",
   "name": "python3"
  },
  "language_info": {
   "codemirror_mode": {
    "name": "ipython",
    "version": 2
   },
   "file_extension": ".py",
   "mimetype": "text/x-python",
   "name": "python",
   "nbconvert_exporter": "python",
   "pygments_lexer": "ipython2",
   "version": "2.7.6"
  }
 },
 "nbformat": 4,
 "nbformat_minor": 0
}
