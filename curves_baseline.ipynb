{
 "cells": [
  {
   "cell_type": "code",
   "execution_count": 26,
   "metadata": {
    "collapsed": true,
    "ExecuteTime": {
     "end_time": "2023-11-18T11:58:22.494608Z",
     "start_time": "2023-11-18T11:58:22.463702Z"
    }
   },
   "outputs": [],
   "source": [
    "import pandas as pd\n",
    "from sklearn.neural_network import MLPClassifier\n",
    "import glob\n",
    "import numpy as np\n",
    "import ast"
   ]
  },
  {
   "cell_type": "code",
   "execution_count": 27,
   "outputs": [],
   "source": [
    "import os\n",
    "\n",
    "df_labels = pd.read_csv('data/innovaid_hackathon_anima/output_classes.csv')\n",
    "\n",
    "size = 30\n",
    "\n",
    "df = pd.read_csv(\"data/innovaid_hackathon_anima/input_curves_len.csv\")"
   ],
   "metadata": {
    "collapsed": false,
    "ExecuteTime": {
     "end_time": "2023-11-18T11:58:22.529937Z",
     "start_time": "2023-11-18T11:58:22.466246Z"
    }
   }
  },
  {
   "cell_type": "code",
   "execution_count": 28,
   "outputs": [
    {
     "data": {
      "text/plain": "                Unnamed: 0          0         1         2         3         4  \\\n0     NIWf76Hey8eftwtH7Mhn   1.540867  0.000000  0.318907  0.075498  0.069570   \n1     5wkYPhQUJDJ5wj1V2Nk4   1.056666  0.334286  0.585656  0.376500  0.472933   \n2     krJ3q9NcKQ2elEdfUc2b   0.072591  0.710794  0.000000  0.883433  0.388821   \n3     ykb8Kau47lOpf94ogXqW   1.097133  0.000000  0.133878  0.000000  0.139401   \n4     9kaeHX0tKCwDx3YTqtKa   1.465403  0.000000  0.707747  0.000000  0.555981   \n...                    ...        ...       ...       ...       ...       ...   \n2958  VRBJWnNH1FLw3SosKEvd   0.181167  0.448170  0.760690  0.417324  0.605636   \n2959  Pf4Ae6IOVapo0dh6lNZX   0.416390  0.358176  0.525183  0.275791  0.708325   \n2960  X3jVp2rej5Xf40Ox3xRH   1.027391  0.548763  0.817272  0.435088  0.722227   \n2961  YFT4vvlSEy6uF6NrJgdy   0.337427  0.551360  0.237656  0.291192  0.302388   \n2962  sX1f0IigLUCRZ7QZBF0h  14.525069  1.380257  2.098564  0.473300  6.086225   \n\n             5         6         7         8  ...        90        91  \\\n0     0.197919  1.903348  0.234749  0.424621  ...  0.502309  0.347747   \n1     0.232242  0.623011  0.169833  0.640380  ...  0.590304  0.000000   \n2     0.261880  1.633393  0.000000  0.642680  ...  0.492920  0.078373   \n3     0.000000  0.251370  0.000000  0.199133  ...  0.251358  0.000000   \n4     0.000000  1.090938  0.000000  0.428443  ...  0.632043  1.867441   \n...        ...       ...       ...       ...  ...       ...       ...   \n2958  0.659394  0.404349  0.384214  0.439129  ...  0.401729  0.662510   \n2959  0.329971  0.389819  0.256839  0.518651  ...  0.492919  0.309518   \n2960  0.506017  1.136694  0.483368  0.700662  ...  0.454141  0.229255   \n2961  0.304730  0.230862  0.389391  0.241498  ...  0.316879  0.454634   \n2962  1.353294  1.194056  1.024070  0.918973  ...  2.200004  0.167931   \n\n            92        93        94        95        96        97        98  \\\n0     0.131862  0.207535  0.183522  0.206184  0.733636  0.321918  0.320498   \n1     0.578554  0.000000  0.603981  0.000000  0.722968  0.000000  0.762436   \n2     0.562164  0.217411  0.701419  0.000000  0.000000  0.772407  0.128681   \n3     0.197902  0.000000  0.290790  0.000000  0.069217  0.000000  0.226212   \n4     0.437432  0.444704  0.382157  1.237564  0.575397  0.409581  1.263904   \n...        ...       ...       ...       ...       ...       ...       ...   \n2958  0.573460  0.734549  1.601591  0.572547  0.349032  1.003985  0.321342   \n2959  0.850850  0.397515  0.438945  0.328358  0.598898  0.221545  0.721984   \n2960  0.900399  0.345705  2.074091  0.407387  0.955118  0.350410  0.448184   \n2961  0.243853  0.316942  0.201456  0.493689  0.335392  0.481461  0.197401   \n2962  2.035485  0.447091  1.831408  0.253393  2.160569  0.357414  1.733311   \n\n            99  \n0     0.177371  \n1     0.000000  \n2     0.560090  \n3     0.000000  \n4     1.674341  \n...        ...  \n2958  0.839397  \n2959  0.330707  \n2960  0.216995  \n2961  0.381538  \n2962  0.256841  \n\n[2963 rows x 101 columns]",
      "text/html": "<div>\n<style scoped>\n    .dataframe tbody tr th:only-of-type {\n        vertical-align: middle;\n    }\n\n    .dataframe tbody tr th {\n        vertical-align: top;\n    }\n\n    .dataframe thead th {\n        text-align: right;\n    }\n</style>\n<table border=\"1\" class=\"dataframe\">\n  <thead>\n    <tr style=\"text-align: right;\">\n      <th></th>\n      <th>Unnamed: 0</th>\n      <th>0</th>\n      <th>1</th>\n      <th>2</th>\n      <th>3</th>\n      <th>4</th>\n      <th>5</th>\n      <th>6</th>\n      <th>7</th>\n      <th>8</th>\n      <th>...</th>\n      <th>90</th>\n      <th>91</th>\n      <th>92</th>\n      <th>93</th>\n      <th>94</th>\n      <th>95</th>\n      <th>96</th>\n      <th>97</th>\n      <th>98</th>\n      <th>99</th>\n    </tr>\n  </thead>\n  <tbody>\n    <tr>\n      <th>0</th>\n      <td>NIWf76Hey8eftwtH7Mhn</td>\n      <td>1.540867</td>\n      <td>0.000000</td>\n      <td>0.318907</td>\n      <td>0.075498</td>\n      <td>0.069570</td>\n      <td>0.197919</td>\n      <td>1.903348</td>\n      <td>0.234749</td>\n      <td>0.424621</td>\n      <td>...</td>\n      <td>0.502309</td>\n      <td>0.347747</td>\n      <td>0.131862</td>\n      <td>0.207535</td>\n      <td>0.183522</td>\n      <td>0.206184</td>\n      <td>0.733636</td>\n      <td>0.321918</td>\n      <td>0.320498</td>\n      <td>0.177371</td>\n    </tr>\n    <tr>\n      <th>1</th>\n      <td>5wkYPhQUJDJ5wj1V2Nk4</td>\n      <td>1.056666</td>\n      <td>0.334286</td>\n      <td>0.585656</td>\n      <td>0.376500</td>\n      <td>0.472933</td>\n      <td>0.232242</td>\n      <td>0.623011</td>\n      <td>0.169833</td>\n      <td>0.640380</td>\n      <td>...</td>\n      <td>0.590304</td>\n      <td>0.000000</td>\n      <td>0.578554</td>\n      <td>0.000000</td>\n      <td>0.603981</td>\n      <td>0.000000</td>\n      <td>0.722968</td>\n      <td>0.000000</td>\n      <td>0.762436</td>\n      <td>0.000000</td>\n    </tr>\n    <tr>\n      <th>2</th>\n      <td>krJ3q9NcKQ2elEdfUc2b</td>\n      <td>0.072591</td>\n      <td>0.710794</td>\n      <td>0.000000</td>\n      <td>0.883433</td>\n      <td>0.388821</td>\n      <td>0.261880</td>\n      <td>1.633393</td>\n      <td>0.000000</td>\n      <td>0.642680</td>\n      <td>...</td>\n      <td>0.492920</td>\n      <td>0.078373</td>\n      <td>0.562164</td>\n      <td>0.217411</td>\n      <td>0.701419</td>\n      <td>0.000000</td>\n      <td>0.000000</td>\n      <td>0.772407</td>\n      <td>0.128681</td>\n      <td>0.560090</td>\n    </tr>\n    <tr>\n      <th>3</th>\n      <td>ykb8Kau47lOpf94ogXqW</td>\n      <td>1.097133</td>\n      <td>0.000000</td>\n      <td>0.133878</td>\n      <td>0.000000</td>\n      <td>0.139401</td>\n      <td>0.000000</td>\n      <td>0.251370</td>\n      <td>0.000000</td>\n      <td>0.199133</td>\n      <td>...</td>\n      <td>0.251358</td>\n      <td>0.000000</td>\n      <td>0.197902</td>\n      <td>0.000000</td>\n      <td>0.290790</td>\n      <td>0.000000</td>\n      <td>0.069217</td>\n      <td>0.000000</td>\n      <td>0.226212</td>\n      <td>0.000000</td>\n    </tr>\n    <tr>\n      <th>4</th>\n      <td>9kaeHX0tKCwDx3YTqtKa</td>\n      <td>1.465403</td>\n      <td>0.000000</td>\n      <td>0.707747</td>\n      <td>0.000000</td>\n      <td>0.555981</td>\n      <td>0.000000</td>\n      <td>1.090938</td>\n      <td>0.000000</td>\n      <td>0.428443</td>\n      <td>...</td>\n      <td>0.632043</td>\n      <td>1.867441</td>\n      <td>0.437432</td>\n      <td>0.444704</td>\n      <td>0.382157</td>\n      <td>1.237564</td>\n      <td>0.575397</td>\n      <td>0.409581</td>\n      <td>1.263904</td>\n      <td>1.674341</td>\n    </tr>\n    <tr>\n      <th>...</th>\n      <td>...</td>\n      <td>...</td>\n      <td>...</td>\n      <td>...</td>\n      <td>...</td>\n      <td>...</td>\n      <td>...</td>\n      <td>...</td>\n      <td>...</td>\n      <td>...</td>\n      <td>...</td>\n      <td>...</td>\n      <td>...</td>\n      <td>...</td>\n      <td>...</td>\n      <td>...</td>\n      <td>...</td>\n      <td>...</td>\n      <td>...</td>\n      <td>...</td>\n      <td>...</td>\n    </tr>\n    <tr>\n      <th>2958</th>\n      <td>VRBJWnNH1FLw3SosKEvd</td>\n      <td>0.181167</td>\n      <td>0.448170</td>\n      <td>0.760690</td>\n      <td>0.417324</td>\n      <td>0.605636</td>\n      <td>0.659394</td>\n      <td>0.404349</td>\n      <td>0.384214</td>\n      <td>0.439129</td>\n      <td>...</td>\n      <td>0.401729</td>\n      <td>0.662510</td>\n      <td>0.573460</td>\n      <td>0.734549</td>\n      <td>1.601591</td>\n      <td>0.572547</td>\n      <td>0.349032</td>\n      <td>1.003985</td>\n      <td>0.321342</td>\n      <td>0.839397</td>\n    </tr>\n    <tr>\n      <th>2959</th>\n      <td>Pf4Ae6IOVapo0dh6lNZX</td>\n      <td>0.416390</td>\n      <td>0.358176</td>\n      <td>0.525183</td>\n      <td>0.275791</td>\n      <td>0.708325</td>\n      <td>0.329971</td>\n      <td>0.389819</td>\n      <td>0.256839</td>\n      <td>0.518651</td>\n      <td>...</td>\n      <td>0.492919</td>\n      <td>0.309518</td>\n      <td>0.850850</td>\n      <td>0.397515</td>\n      <td>0.438945</td>\n      <td>0.328358</td>\n      <td>0.598898</td>\n      <td>0.221545</td>\n      <td>0.721984</td>\n      <td>0.330707</td>\n    </tr>\n    <tr>\n      <th>2960</th>\n      <td>X3jVp2rej5Xf40Ox3xRH</td>\n      <td>1.027391</td>\n      <td>0.548763</td>\n      <td>0.817272</td>\n      <td>0.435088</td>\n      <td>0.722227</td>\n      <td>0.506017</td>\n      <td>1.136694</td>\n      <td>0.483368</td>\n      <td>0.700662</td>\n      <td>...</td>\n      <td>0.454141</td>\n      <td>0.229255</td>\n      <td>0.900399</td>\n      <td>0.345705</td>\n      <td>2.074091</td>\n      <td>0.407387</td>\n      <td>0.955118</td>\n      <td>0.350410</td>\n      <td>0.448184</td>\n      <td>0.216995</td>\n    </tr>\n    <tr>\n      <th>2961</th>\n      <td>YFT4vvlSEy6uF6NrJgdy</td>\n      <td>0.337427</td>\n      <td>0.551360</td>\n      <td>0.237656</td>\n      <td>0.291192</td>\n      <td>0.302388</td>\n      <td>0.304730</td>\n      <td>0.230862</td>\n      <td>0.389391</td>\n      <td>0.241498</td>\n      <td>...</td>\n      <td>0.316879</td>\n      <td>0.454634</td>\n      <td>0.243853</td>\n      <td>0.316942</td>\n      <td>0.201456</td>\n      <td>0.493689</td>\n      <td>0.335392</td>\n      <td>0.481461</td>\n      <td>0.197401</td>\n      <td>0.381538</td>\n    </tr>\n    <tr>\n      <th>2962</th>\n      <td>sX1f0IigLUCRZ7QZBF0h</td>\n      <td>14.525069</td>\n      <td>1.380257</td>\n      <td>2.098564</td>\n      <td>0.473300</td>\n      <td>6.086225</td>\n      <td>1.353294</td>\n      <td>1.194056</td>\n      <td>1.024070</td>\n      <td>0.918973</td>\n      <td>...</td>\n      <td>2.200004</td>\n      <td>0.167931</td>\n      <td>2.035485</td>\n      <td>0.447091</td>\n      <td>1.831408</td>\n      <td>0.253393</td>\n      <td>2.160569</td>\n      <td>0.357414</td>\n      <td>1.733311</td>\n      <td>0.256841</td>\n    </tr>\n  </tbody>\n</table>\n<p>2963 rows × 101 columns</p>\n</div>"
     },
     "execution_count": 28,
     "metadata": {},
     "output_type": "execute_result"
    }
   ],
   "source": [
    "df"
   ],
   "metadata": {
    "collapsed": false,
    "ExecuteTime": {
     "end_time": "2023-11-18T11:58:22.530420Z",
     "start_time": "2023-11-18T11:58:22.508097Z"
    }
   }
  },
  {
   "cell_type": "code",
   "execution_count": 29,
   "outputs": [
    {
     "data": {
      "text/plain": "                       sid  PHQ9  BDI  has_depression  depression_severity\n0     NIWf76Hey8eftwtH7Mhn    20   30               1                    4\n1     5wkYPhQUJDJ5wj1V2Nk4    19   26               1                    3\n2     krJ3q9NcKQ2elEdfUc2b     7    5               0                    1\n3     ykb8Kau47lOpf94ogXqW    26   35               1                    4\n4     9kaeHX0tKCwDx3YTqtKa    10   28               1                    2\n...                    ...   ...  ...             ...                  ...\n2958  VRBJWnNH1FLw3SosKEvd    21   28               1                    4\n2959  Pf4Ae6IOVapo0dh6lNZX    17   15               1                    3\n2960  X3jVp2rej5Xf40Ox3xRH    15   13               1                    3\n2961  YFT4vvlSEy6uF6NrJgdy    16   12               1                    3\n2962  sX1f0IigLUCRZ7QZBF0h    21   35               1                    4\n\n[2963 rows x 5 columns]",
      "text/html": "<div>\n<style scoped>\n    .dataframe tbody tr th:only-of-type {\n        vertical-align: middle;\n    }\n\n    .dataframe tbody tr th {\n        vertical-align: top;\n    }\n\n    .dataframe thead th {\n        text-align: right;\n    }\n</style>\n<table border=\"1\" class=\"dataframe\">\n  <thead>\n    <tr style=\"text-align: right;\">\n      <th></th>\n      <th>sid</th>\n      <th>PHQ9</th>\n      <th>BDI</th>\n      <th>has_depression</th>\n      <th>depression_severity</th>\n    </tr>\n  </thead>\n  <tbody>\n    <tr>\n      <th>0</th>\n      <td>NIWf76Hey8eftwtH7Mhn</td>\n      <td>20</td>\n      <td>30</td>\n      <td>1</td>\n      <td>4</td>\n    </tr>\n    <tr>\n      <th>1</th>\n      <td>5wkYPhQUJDJ5wj1V2Nk4</td>\n      <td>19</td>\n      <td>26</td>\n      <td>1</td>\n      <td>3</td>\n    </tr>\n    <tr>\n      <th>2</th>\n      <td>krJ3q9NcKQ2elEdfUc2b</td>\n      <td>7</td>\n      <td>5</td>\n      <td>0</td>\n      <td>1</td>\n    </tr>\n    <tr>\n      <th>3</th>\n      <td>ykb8Kau47lOpf94ogXqW</td>\n      <td>26</td>\n      <td>35</td>\n      <td>1</td>\n      <td>4</td>\n    </tr>\n    <tr>\n      <th>4</th>\n      <td>9kaeHX0tKCwDx3YTqtKa</td>\n      <td>10</td>\n      <td>28</td>\n      <td>1</td>\n      <td>2</td>\n    </tr>\n    <tr>\n      <th>...</th>\n      <td>...</td>\n      <td>...</td>\n      <td>...</td>\n      <td>...</td>\n      <td>...</td>\n    </tr>\n    <tr>\n      <th>2958</th>\n      <td>VRBJWnNH1FLw3SosKEvd</td>\n      <td>21</td>\n      <td>28</td>\n      <td>1</td>\n      <td>4</td>\n    </tr>\n    <tr>\n      <th>2959</th>\n      <td>Pf4Ae6IOVapo0dh6lNZX</td>\n      <td>17</td>\n      <td>15</td>\n      <td>1</td>\n      <td>3</td>\n    </tr>\n    <tr>\n      <th>2960</th>\n      <td>X3jVp2rej5Xf40Ox3xRH</td>\n      <td>15</td>\n      <td>13</td>\n      <td>1</td>\n      <td>3</td>\n    </tr>\n    <tr>\n      <th>2961</th>\n      <td>YFT4vvlSEy6uF6NrJgdy</td>\n      <td>16</td>\n      <td>12</td>\n      <td>1</td>\n      <td>3</td>\n    </tr>\n    <tr>\n      <th>2962</th>\n      <td>sX1f0IigLUCRZ7QZBF0h</td>\n      <td>21</td>\n      <td>35</td>\n      <td>1</td>\n      <td>4</td>\n    </tr>\n  </tbody>\n</table>\n<p>2963 rows × 5 columns</p>\n</div>"
     },
     "execution_count": 29,
     "metadata": {},
     "output_type": "execute_result"
    }
   ],
   "source": [
    "df_labels_chunk = pd.merge(df[[\"Unnamed: 0\"]], df_labels, \"inner\", left_on=\"Unnamed: 0\", right_on=\"sid\")\n",
    "df_labels_chunk.drop([\"Unnamed: 0_x\", \"Unnamed: 0_y\"], inplace=True, axis=1)\n",
    "df_labels_chunk"
   ],
   "metadata": {
    "collapsed": false,
    "ExecuteTime": {
     "end_time": "2023-11-18T11:58:22.530516Z",
     "start_time": "2023-11-18T11:58:22.519851Z"
    }
   }
  },
  {
   "cell_type": "code",
   "execution_count": 30,
   "outputs": [
    {
     "data": {
      "text/plain": "array([[ 1.54086667,  0.        ,  0.31890655, ...,  0.32191791,\n         0.32049815,  0.17737099],\n       [ 1.05666612,  0.33428553,  0.58565617, ...,  0.        ,\n         0.76243553,  0.        ],\n       [ 0.07259081,  0.71079386,  0.        , ...,  0.77240711,\n         0.12868149,  0.56008976],\n       ...,\n       [ 1.02739115,  0.54876321,  0.81727194, ...,  0.35040974,\n         0.44818392,  0.21699513],\n       [ 0.33742659,  0.55135985,  0.23765602, ...,  0.48146117,\n         0.19740118,  0.38153813],\n       [14.52506937,  1.38025748,  2.09856364, ...,  0.35741398,\n         1.73331067,  0.25684119]])"
     },
     "execution_count": 30,
     "metadata": {},
     "output_type": "execute_result"
    }
   ],
   "source": [
    "df.drop([\"Unnamed: 0\"], axis=1, inplace=True)\n",
    "X = df.to_numpy()\n",
    "\n",
    "X"
   ],
   "metadata": {
    "collapsed": false,
    "ExecuteTime": {
     "end_time": "2023-11-18T11:58:22.530605Z",
     "start_time": "2023-11-18T11:58:22.527287Z"
    }
   }
  },
  {
   "cell_type": "code",
   "execution_count": 31,
   "outputs": [],
   "source": [
    "y = df_labels_chunk[\"depression_severity\"].to_numpy()"
   ],
   "metadata": {
    "collapsed": false,
    "ExecuteTime": {
     "end_time": "2023-11-18T11:58:22.536622Z",
     "start_time": "2023-11-18T11:58:22.531129Z"
    }
   }
  },
  {
   "cell_type": "code",
   "execution_count": 32,
   "outputs": [
    {
     "data": {
      "text/plain": "(2963, 2963)"
     },
     "execution_count": 32,
     "metadata": {},
     "output_type": "execute_result"
    }
   ],
   "source": [
    "len(X), len(y)"
   ],
   "metadata": {
    "collapsed": false,
    "ExecuteTime": {
     "end_time": "2023-11-18T11:58:22.536741Z",
     "start_time": "2023-11-18T11:58:22.533384Z"
    }
   }
  },
  {
   "cell_type": "code",
   "execution_count": 33,
   "outputs": [],
   "source": [
    "# import pandas as pd\n",
    "# from sklearn.model_selection import train_test_split\n",
    "#\n",
    "# # Assuming X and y are your feature matrix and labels\n",
    "# # You can use your original data or load it as needed\n",
    "# # X, y = ...\n",
    "#\n",
    "# # Concatenate X and y to handle the undersampling\n",
    "# data = pd.concat([pd.DataFrame(X), pd.DataFrame({'y': y})], axis=1)\n",
    "#\n",
    "# # Separate data into majority (class 1) and minority (class 0) classes\n",
    "# majority_class = data[data['y'] == 1]\n",
    "# minority_class = data[data['y'] == 0]\n",
    "#\n",
    "# # Undersample majority class to have the same number of samples as the minority class\n",
    "# undersampled_majority_class = majority_class.sample(n=minority_class.shape[0], random_state=42)\n",
    "#\n",
    "# # Concatenate the undersampled majority class and the minority class\n",
    "# undersampled_data = pd.concat([undersampled_majority_class, minority_class], axis=0)\n",
    "#\n",
    "# # Separate features and labels\n",
    "# X_undersampled = undersampled_data.drop('y', axis=1)\n",
    "# y_undersampled = undersampled_data['y']\n",
    "#\n",
    "# X = X_undersampled\n",
    "# y = y_undersampled\n",
    "#\n",
    "# len(X_undersampled), len(y_undersampled)\n"
   ],
   "metadata": {
    "collapsed": false,
    "ExecuteTime": {
     "end_time": "2023-11-18T11:58:22.543058Z",
     "start_time": "2023-11-18T11:58:22.536570Z"
    }
   }
  },
  {
   "cell_type": "code",
   "execution_count": 34,
   "outputs": [],
   "source": [
    "from sklearn.model_selection import train_test_split\n",
    "X_train, X_test, y_train, y_test = train_test_split(X, y, test_size=0.2, random_state=42)"
   ],
   "metadata": {
    "collapsed": false,
    "ExecuteTime": {
     "end_time": "2023-11-18T11:58:22.634097Z",
     "start_time": "2023-11-18T11:58:22.547623Z"
    }
   }
  },
  {
   "cell_type": "markdown",
   "source": [
    "### MLP Classifier"
   ],
   "metadata": {
    "collapsed": false
   }
  },
  {
   "cell_type": "code",
   "execution_count": 35,
   "outputs": [
    {
     "data": {
      "text/plain": "MLPClassifier(hidden_layer_sizes=(1000,), max_iter=1000, random_state=42)",
      "text/html": "<style>#sk-container-id-1 {color: black;}#sk-container-id-1 pre{padding: 0;}#sk-container-id-1 div.sk-toggleable {background-color: white;}#sk-container-id-1 label.sk-toggleable__label {cursor: pointer;display: block;width: 100%;margin-bottom: 0;padding: 0.3em;box-sizing: border-box;text-align: center;}#sk-container-id-1 label.sk-toggleable__label-arrow:before {content: \"▸\";float: left;margin-right: 0.25em;color: #696969;}#sk-container-id-1 label.sk-toggleable__label-arrow:hover:before {color: black;}#sk-container-id-1 div.sk-estimator:hover label.sk-toggleable__label-arrow:before {color: black;}#sk-container-id-1 div.sk-toggleable__content {max-height: 0;max-width: 0;overflow: hidden;text-align: left;background-color: #f0f8ff;}#sk-container-id-1 div.sk-toggleable__content pre {margin: 0.2em;color: black;border-radius: 0.25em;background-color: #f0f8ff;}#sk-container-id-1 input.sk-toggleable__control:checked~div.sk-toggleable__content {max-height: 200px;max-width: 100%;overflow: auto;}#sk-container-id-1 input.sk-toggleable__control:checked~label.sk-toggleable__label-arrow:before {content: \"▾\";}#sk-container-id-1 div.sk-estimator input.sk-toggleable__control:checked~label.sk-toggleable__label {background-color: #d4ebff;}#sk-container-id-1 div.sk-label input.sk-toggleable__control:checked~label.sk-toggleable__label {background-color: #d4ebff;}#sk-container-id-1 input.sk-hidden--visually {border: 0;clip: rect(1px 1px 1px 1px);clip: rect(1px, 1px, 1px, 1px);height: 1px;margin: -1px;overflow: hidden;padding: 0;position: absolute;width: 1px;}#sk-container-id-1 div.sk-estimator {font-family: monospace;background-color: #f0f8ff;border: 1px dotted black;border-radius: 0.25em;box-sizing: border-box;margin-bottom: 0.5em;}#sk-container-id-1 div.sk-estimator:hover {background-color: #d4ebff;}#sk-container-id-1 div.sk-parallel-item::after {content: \"\";width: 100%;border-bottom: 1px solid gray;flex-grow: 1;}#sk-container-id-1 div.sk-label:hover label.sk-toggleable__label {background-color: #d4ebff;}#sk-container-id-1 div.sk-serial::before {content: \"\";position: absolute;border-left: 1px solid gray;box-sizing: border-box;top: 0;bottom: 0;left: 50%;z-index: 0;}#sk-container-id-1 div.sk-serial {display: flex;flex-direction: column;align-items: center;background-color: white;padding-right: 0.2em;padding-left: 0.2em;position: relative;}#sk-container-id-1 div.sk-item {position: relative;z-index: 1;}#sk-container-id-1 div.sk-parallel {display: flex;align-items: stretch;justify-content: center;background-color: white;position: relative;}#sk-container-id-1 div.sk-item::before, #sk-container-id-1 div.sk-parallel-item::before {content: \"\";position: absolute;border-left: 1px solid gray;box-sizing: border-box;top: 0;bottom: 0;left: 50%;z-index: -1;}#sk-container-id-1 div.sk-parallel-item {display: flex;flex-direction: column;z-index: 1;position: relative;background-color: white;}#sk-container-id-1 div.sk-parallel-item:first-child::after {align-self: flex-end;width: 50%;}#sk-container-id-1 div.sk-parallel-item:last-child::after {align-self: flex-start;width: 50%;}#sk-container-id-1 div.sk-parallel-item:only-child::after {width: 0;}#sk-container-id-1 div.sk-dashed-wrapped {border: 1px dashed gray;margin: 0 0.4em 0.5em 0.4em;box-sizing: border-box;padding-bottom: 0.4em;background-color: white;}#sk-container-id-1 div.sk-label label {font-family: monospace;font-weight: bold;display: inline-block;line-height: 1.2em;}#sk-container-id-1 div.sk-label-container {text-align: center;}#sk-container-id-1 div.sk-container {/* jupyter's `normalize.less` sets `[hidden] { display: none; }` but bootstrap.min.css set `[hidden] { display: none !important; }` so we also need the `!important` here to be able to override the default hidden behavior on the sphinx rendered scikit-learn.org. See: https://github.com/scikit-learn/scikit-learn/issues/21755 */display: inline-block !important;position: relative;}#sk-container-id-1 div.sk-text-repr-fallback {display: none;}</style><div id=\"sk-container-id-1\" class=\"sk-top-container\"><div class=\"sk-text-repr-fallback\"><pre>MLPClassifier(hidden_layer_sizes=(1000,), max_iter=1000, random_state=42)</pre><b>In a Jupyter environment, please rerun this cell to show the HTML representation or trust the notebook. <br />On GitHub, the HTML representation is unable to render, please try loading this page with nbviewer.org.</b></div><div class=\"sk-container\" hidden><div class=\"sk-item\"><div class=\"sk-estimator sk-toggleable\"><input class=\"sk-toggleable__control sk-hidden--visually\" id=\"sk-estimator-id-1\" type=\"checkbox\" checked><label for=\"sk-estimator-id-1\" class=\"sk-toggleable__label sk-toggleable__label-arrow\">MLPClassifier</label><div class=\"sk-toggleable__content\"><pre>MLPClassifier(hidden_layer_sizes=(1000,), max_iter=1000, random_state=42)</pre></div></div></div></div></div>"
     },
     "execution_count": 35,
     "metadata": {},
     "output_type": "execute_result"
    }
   ],
   "source": [
    "model = MLPClassifier(hidden_layer_sizes=(1000,), max_iter=1000, activation='relu', random_state=42)\n",
    "\n",
    "model.fit(X_train, y_train)"
   ],
   "metadata": {
    "collapsed": false,
    "ExecuteTime": {
     "end_time": "2023-11-18T11:58:42.424594Z",
     "start_time": "2023-11-18T11:58:22.553427Z"
    }
   }
  },
  {
   "cell_type": "code",
   "execution_count": 36,
   "outputs": [
    {
     "data": {
      "text/plain": "0.2563237774030354"
     },
     "execution_count": 36,
     "metadata": {},
     "output_type": "execute_result"
    }
   ],
   "source": [
    "model.score(X_test, y_test)"
   ],
   "metadata": {
    "collapsed": false,
    "ExecuteTime": {
     "end_time": "2023-11-18T11:58:42.428951Z",
     "start_time": "2023-11-18T11:58:42.425267Z"
    }
   }
  },
  {
   "cell_type": "markdown",
   "source": [
    "### SVM"
   ],
   "metadata": {
    "collapsed": false
   }
  },
  {
   "cell_type": "code",
   "execution_count": 37,
   "outputs": [
    {
     "data": {
      "text/plain": "SVC(random_state=42)",
      "text/html": "<style>#sk-container-id-2 {color: black;}#sk-container-id-2 pre{padding: 0;}#sk-container-id-2 div.sk-toggleable {background-color: white;}#sk-container-id-2 label.sk-toggleable__label {cursor: pointer;display: block;width: 100%;margin-bottom: 0;padding: 0.3em;box-sizing: border-box;text-align: center;}#sk-container-id-2 label.sk-toggleable__label-arrow:before {content: \"▸\";float: left;margin-right: 0.25em;color: #696969;}#sk-container-id-2 label.sk-toggleable__label-arrow:hover:before {color: black;}#sk-container-id-2 div.sk-estimator:hover label.sk-toggleable__label-arrow:before {color: black;}#sk-container-id-2 div.sk-toggleable__content {max-height: 0;max-width: 0;overflow: hidden;text-align: left;background-color: #f0f8ff;}#sk-container-id-2 div.sk-toggleable__content pre {margin: 0.2em;color: black;border-radius: 0.25em;background-color: #f0f8ff;}#sk-container-id-2 input.sk-toggleable__control:checked~div.sk-toggleable__content {max-height: 200px;max-width: 100%;overflow: auto;}#sk-container-id-2 input.sk-toggleable__control:checked~label.sk-toggleable__label-arrow:before {content: \"▾\";}#sk-container-id-2 div.sk-estimator input.sk-toggleable__control:checked~label.sk-toggleable__label {background-color: #d4ebff;}#sk-container-id-2 div.sk-label input.sk-toggleable__control:checked~label.sk-toggleable__label {background-color: #d4ebff;}#sk-container-id-2 input.sk-hidden--visually {border: 0;clip: rect(1px 1px 1px 1px);clip: rect(1px, 1px, 1px, 1px);height: 1px;margin: -1px;overflow: hidden;padding: 0;position: absolute;width: 1px;}#sk-container-id-2 div.sk-estimator {font-family: monospace;background-color: #f0f8ff;border: 1px dotted black;border-radius: 0.25em;box-sizing: border-box;margin-bottom: 0.5em;}#sk-container-id-2 div.sk-estimator:hover {background-color: #d4ebff;}#sk-container-id-2 div.sk-parallel-item::after {content: \"\";width: 100%;border-bottom: 1px solid gray;flex-grow: 1;}#sk-container-id-2 div.sk-label:hover label.sk-toggleable__label {background-color: #d4ebff;}#sk-container-id-2 div.sk-serial::before {content: \"\";position: absolute;border-left: 1px solid gray;box-sizing: border-box;top: 0;bottom: 0;left: 50%;z-index: 0;}#sk-container-id-2 div.sk-serial {display: flex;flex-direction: column;align-items: center;background-color: white;padding-right: 0.2em;padding-left: 0.2em;position: relative;}#sk-container-id-2 div.sk-item {position: relative;z-index: 1;}#sk-container-id-2 div.sk-parallel {display: flex;align-items: stretch;justify-content: center;background-color: white;position: relative;}#sk-container-id-2 div.sk-item::before, #sk-container-id-2 div.sk-parallel-item::before {content: \"\";position: absolute;border-left: 1px solid gray;box-sizing: border-box;top: 0;bottom: 0;left: 50%;z-index: -1;}#sk-container-id-2 div.sk-parallel-item {display: flex;flex-direction: column;z-index: 1;position: relative;background-color: white;}#sk-container-id-2 div.sk-parallel-item:first-child::after {align-self: flex-end;width: 50%;}#sk-container-id-2 div.sk-parallel-item:last-child::after {align-self: flex-start;width: 50%;}#sk-container-id-2 div.sk-parallel-item:only-child::after {width: 0;}#sk-container-id-2 div.sk-dashed-wrapped {border: 1px dashed gray;margin: 0 0.4em 0.5em 0.4em;box-sizing: border-box;padding-bottom: 0.4em;background-color: white;}#sk-container-id-2 div.sk-label label {font-family: monospace;font-weight: bold;display: inline-block;line-height: 1.2em;}#sk-container-id-2 div.sk-label-container {text-align: center;}#sk-container-id-2 div.sk-container {/* jupyter's `normalize.less` sets `[hidden] { display: none; }` but bootstrap.min.css set `[hidden] { display: none !important; }` so we also need the `!important` here to be able to override the default hidden behavior on the sphinx rendered scikit-learn.org. See: https://github.com/scikit-learn/scikit-learn/issues/21755 */display: inline-block !important;position: relative;}#sk-container-id-2 div.sk-text-repr-fallback {display: none;}</style><div id=\"sk-container-id-2\" class=\"sk-top-container\"><div class=\"sk-text-repr-fallback\"><pre>SVC(random_state=42)</pre><b>In a Jupyter environment, please rerun this cell to show the HTML representation or trust the notebook. <br />On GitHub, the HTML representation is unable to render, please try loading this page with nbviewer.org.</b></div><div class=\"sk-container\" hidden><div class=\"sk-item\"><div class=\"sk-estimator sk-toggleable\"><input class=\"sk-toggleable__control sk-hidden--visually\" id=\"sk-estimator-id-2\" type=\"checkbox\" checked><label for=\"sk-estimator-id-2\" class=\"sk-toggleable__label sk-toggleable__label-arrow\">SVC</label><div class=\"sk-toggleable__content\"><pre>SVC(random_state=42)</pre></div></div></div></div></div>"
     },
     "execution_count": 37,
     "metadata": {},
     "output_type": "execute_result"
    }
   ],
   "source": [
    "from sklearn.svm import SVC\n",
    "\n",
    "model = SVC(random_state=42)\n",
    "model.fit(X_train, y_train)"
   ],
   "metadata": {
    "collapsed": false,
    "ExecuteTime": {
     "end_time": "2023-11-18T11:58:42.901714Z",
     "start_time": "2023-11-18T11:58:42.430108Z"
    }
   }
  },
  {
   "cell_type": "code",
   "execution_count": 38,
   "outputs": [
    {
     "data": {
      "text/plain": "0.30522765598650925"
     },
     "execution_count": 38,
     "metadata": {},
     "output_type": "execute_result"
    }
   ],
   "source": [
    "model.score(X_test, y_test)"
   ],
   "metadata": {
    "collapsed": false,
    "ExecuteTime": {
     "end_time": "2023-11-18T11:58:43.065898Z",
     "start_time": "2023-11-18T11:58:42.902144Z"
    }
   }
  },
  {
   "cell_type": "markdown",
   "source": [
    "---"
   ],
   "metadata": {
    "collapsed": false
   }
  },
  {
   "cell_type": "code",
   "execution_count": 39,
   "outputs": [
    {
     "name": "stdout",
     "output_type": "stream",
     "text": [
      "Nearest Neighbors: 0.21248\n",
      "Linear SVM: 0.28668\n",
      "RBF SVM: 0.31703\n"
     ]
    },
    {
     "name": "stderr",
     "output_type": "stream",
     "text": [
      "/Users/alorthius/anaconda3/envs/innovaid/lib/python3.10/site-packages/sklearn/gaussian_process/kernels.py:429: ConvergenceWarning: The optimal value found for dimension 0 of parameter k2__length_scale is close to the specified upper bound 100000.0. Increasing the bound and calling fit again may find a better value.\n",
      "  warnings.warn(\n",
      "/Users/alorthius/anaconda3/envs/innovaid/lib/python3.10/site-packages/sklearn/gaussian_process/kernels.py:429: ConvergenceWarning: The optimal value found for dimension 0 of parameter k2__length_scale is close to the specified upper bound 100000.0. Increasing the bound and calling fit again may find a better value.\n",
      "  warnings.warn(\n"
     ]
    },
    {
     "name": "stdout",
     "output_type": "stream",
     "text": [
      "Gaussian Process: 0.31366\n",
      "Decision Tree: 0.27993\n",
      "Random Forest: 0.30691\n",
      "Neural Net: 0.26138\n",
      "AdaBoost: 0.27825\n",
      "Naive Bayes: 0.10455\n",
      "QDA: 0.19899\n"
     ]
    }
   ],
   "source": [
    "import matplotlib.pyplot as plt\n",
    "import numpy as np\n",
    "from matplotlib.colors import ListedColormap\n",
    "\n",
    "from sklearn.datasets import make_circles, make_classification, make_moons\n",
    "from sklearn.discriminant_analysis import QuadraticDiscriminantAnalysis\n",
    "from sklearn.ensemble import AdaBoostClassifier, RandomForestClassifier\n",
    "from sklearn.gaussian_process import GaussianProcessClassifier\n",
    "from sklearn.gaussian_process.kernels import RBF\n",
    "from sklearn.inspection import DecisionBoundaryDisplay\n",
    "from sklearn.model_selection import train_test_split\n",
    "from sklearn.naive_bayes import GaussianNB\n",
    "from sklearn.neighbors import KNeighborsClassifier\n",
    "from sklearn.neural_network import MLPClassifier\n",
    "from sklearn.pipeline import make_pipeline\n",
    "from sklearn.preprocessing import StandardScaler\n",
    "from sklearn.svm import SVC\n",
    "from sklearn.tree import DecisionTreeClassifier\n",
    "\n",
    "\n",
    "\n",
    "names = [\n",
    "    \"Nearest Neighbors\",\n",
    "    \"Linear SVM\",\n",
    "    \"RBF SVM\",\n",
    "    \"Gaussian Process\",\n",
    "    \"Decision Tree\",\n",
    "    \"Random Forest\",\n",
    "    \"Neural Net\",\n",
    "    \"AdaBoost\",\n",
    "    \"Naive Bayes\",\n",
    "    \"QDA\",\n",
    "]\n",
    "\n",
    "classifiers = [\n",
    "    KNeighborsClassifier(3),\n",
    "    SVC(kernel=\"linear\", C=0.025, random_state=42),\n",
    "    SVC(gamma=2, C=1, random_state=42),\n",
    "    GaussianProcessClassifier(1.0 * RBF(1.0), random_state=42),\n",
    "    DecisionTreeClassifier(max_depth=10, random_state=42),\n",
    "    RandomForestClassifier(\n",
    "        max_depth=5, n_estimators=500, max_features=1, random_state=42\n",
    "    ),\n",
    "    MLPClassifier(alpha=1, max_iter=10000, random_state=42),\n",
    "    AdaBoostClassifier(random_state=42),\n",
    "    GaussianNB(),\n",
    "    QuadraticDiscriminantAnalysis(),\n",
    "]\n",
    "\n",
    "\n",
    "for name, clf in zip(names, classifiers):\n",
    "        clf = make_pipeline(StandardScaler(), clf)\n",
    "        clf.fit(X_train, y_train)\n",
    "        score = clf.score(X_test, y_test)\n",
    "        print(f'{name}: {round(score, 5)}')"
   ],
   "metadata": {
    "collapsed": false,
    "ExecuteTime": {
     "end_time": "2023-11-18T12:00:22.448122Z",
     "start_time": "2023-11-18T11:58:43.070814Z"
    }
   }
  },
  {
   "cell_type": "code",
   "execution_count": 40,
   "outputs": [
    {
     "name": "stdout",
     "output_type": "stream",
     "text": [
      "Total len: 593\n",
      "Number of false negatives (actual 1, predicted 0): 91\n",
      "Number of false positives (actual 0, predicted 1): 25\n"
     ]
    }
   ],
   "source": [
    "predicted_labels = model.predict(X_test)\n",
    "\n",
    "result_df = pd.DataFrame({'Actual': y_test, 'Predicted': predicted_labels})\n",
    "\n",
    "# Identify misclassifications\n",
    "misclassifications = result_df[result_df['Actual'] != result_df['Predicted']]\n",
    "\n",
    "print(\"Total len:\", len(X_test))\n",
    "\n",
    "# Calculate the number of 0-labels and 1-labels where the model fails\n",
    "false_negatives = misclassifications[misclassifications['Actual'] == 1].shape[0]\n",
    "false_positives = misclassifications[misclassifications['Actual'] == 0].shape[0]\n",
    "\n",
    "print(f\"Number of false negatives (actual 1, predicted 0): {false_negatives}\")\n",
    "print(f\"Number of false positives (actual 0, predicted 1): {false_positives}\")\n"
   ],
   "metadata": {
    "collapsed": false,
    "ExecuteTime": {
     "end_time": "2023-11-18T12:00:22.614295Z",
     "start_time": "2023-11-18T12:00:22.452424Z"
    }
   }
  }
 ],
 "metadata": {
  "kernelspec": {
   "display_name": "Python 3",
   "language": "python",
   "name": "python3"
  },
  "language_info": {
   "codemirror_mode": {
    "name": "ipython",
    "version": 2
   },
   "file_extension": ".py",
   "mimetype": "text/x-python",
   "name": "python",
   "nbconvert_exporter": "python",
   "pygments_lexer": "ipython2",
   "version": "2.7.6"
  }
 },
 "nbformat": 4,
 "nbformat_minor": 0
}
